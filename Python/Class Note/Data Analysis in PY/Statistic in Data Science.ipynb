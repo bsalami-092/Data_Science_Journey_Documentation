{
 "cells": [
  {
   "cell_type": "code",
   "execution_count": 1,
   "id": "0bb31cd5-4411-450d-bc8e-3520719c454e",
   "metadata": {},
   "outputs": [],
   "source": [
    "import numpy as np\n",
    "import pandas as pd\n",
    "import seaborn as sns\n",
    "import matplotlib.pyplot as plt\n",
    "import plotly.express as px\n",
    "from scipy.stats import shapiro\n",
    "from scipy.stats import spearmanr,kendalltau,pearsonr\n",
    "from scipy.stats import f_oneway\n",
    "from scipy.stats import ttest_ind\n",
    "from scipy.stats import chi2_contingency\n"
   ]
  },
  {
   "cell_type": "code",
   "execution_count": 2,
   "id": "c054c4be-fdf0-49e3-9b46-c9c7e69caa37",
   "metadata": {},
   "outputs": [
    {
     "data": {
      "text/html": [
       "<div>\n",
       "<style scoped>\n",
       "    .dataframe tbody tr th:only-of-type {\n",
       "        vertical-align: middle;\n",
       "    }\n",
       "\n",
       "    .dataframe tbody tr th {\n",
       "        vertical-align: top;\n",
       "    }\n",
       "\n",
       "    .dataframe thead th {\n",
       "        text-align: right;\n",
       "    }\n",
       "</style>\n",
       "<table border=\"1\" class=\"dataframe\">\n",
       "  <thead>\n",
       "    <tr style=\"text-align: right;\">\n",
       "      <th></th>\n",
       "      <th>Unnamed: 0</th>\n",
       "      <th>Posted On</th>\n",
       "      <th>BHK(Bathroom, hall &amp; Kitchen)</th>\n",
       "      <th>Rent</th>\n",
       "      <th>Size</th>\n",
       "      <th>Area Type</th>\n",
       "      <th>Area Locality</th>\n",
       "      <th>City</th>\n",
       "      <th>Furnishing Status</th>\n",
       "      <th>Tenant Preferred</th>\n",
       "      <th>Bathroom</th>\n",
       "      <th>Point of Contact</th>\n",
       "      <th>House_Floor</th>\n",
       "      <th>Floor_Number</th>\n",
       "    </tr>\n",
       "  </thead>\n",
       "  <tbody>\n",
       "    <tr>\n",
       "      <th>0</th>\n",
       "      <td>0</td>\n",
       "      <td>2022-05-18</td>\n",
       "      <td>2</td>\n",
       "      <td>10000</td>\n",
       "      <td>1100</td>\n",
       "      <td>Super Area</td>\n",
       "      <td>Bandel</td>\n",
       "      <td>Kolkata</td>\n",
       "      <td>Unfurnished</td>\n",
       "      <td>Bachelors/Family</td>\n",
       "      <td>2</td>\n",
       "      <td>Contact Owner</td>\n",
       "      <td>Ground</td>\n",
       "      <td>2</td>\n",
       "    </tr>\n",
       "    <tr>\n",
       "      <th>1</th>\n",
       "      <td>1</td>\n",
       "      <td>2022-05-13</td>\n",
       "      <td>2</td>\n",
       "      <td>20000</td>\n",
       "      <td>800</td>\n",
       "      <td>Super Area</td>\n",
       "      <td>Phool Bagan, Kankurgachi</td>\n",
       "      <td>Kolkata</td>\n",
       "      <td>Semi-Furnished</td>\n",
       "      <td>Bachelors/Family</td>\n",
       "      <td>1</td>\n",
       "      <td>Contact Owner</td>\n",
       "      <td>1</td>\n",
       "      <td>3</td>\n",
       "    </tr>\n",
       "    <tr>\n",
       "      <th>2</th>\n",
       "      <td>2</td>\n",
       "      <td>2022-05-16</td>\n",
       "      <td>2</td>\n",
       "      <td>17000</td>\n",
       "      <td>1000</td>\n",
       "      <td>Super Area</td>\n",
       "      <td>Salt Lake City Sector 2</td>\n",
       "      <td>Kolkata</td>\n",
       "      <td>Semi-Furnished</td>\n",
       "      <td>Bachelors/Family</td>\n",
       "      <td>1</td>\n",
       "      <td>Contact Owner</td>\n",
       "      <td>1</td>\n",
       "      <td>3</td>\n",
       "    </tr>\n",
       "    <tr>\n",
       "      <th>3</th>\n",
       "      <td>3</td>\n",
       "      <td>2022-07-04</td>\n",
       "      <td>2</td>\n",
       "      <td>10000</td>\n",
       "      <td>800</td>\n",
       "      <td>Super Area</td>\n",
       "      <td>Dumdum Park</td>\n",
       "      <td>Kolkata</td>\n",
       "      <td>Unfurnished</td>\n",
       "      <td>Bachelors/Family</td>\n",
       "      <td>1</td>\n",
       "      <td>Contact Owner</td>\n",
       "      <td>1</td>\n",
       "      <td>2</td>\n",
       "    </tr>\n",
       "    <tr>\n",
       "      <th>4</th>\n",
       "      <td>4</td>\n",
       "      <td>2022-05-09</td>\n",
       "      <td>2</td>\n",
       "      <td>7500</td>\n",
       "      <td>850</td>\n",
       "      <td>Carpet Area</td>\n",
       "      <td>South Dum Dum</td>\n",
       "      <td>Kolkata</td>\n",
       "      <td>Unfurnished</td>\n",
       "      <td>Bachelors</td>\n",
       "      <td>1</td>\n",
       "      <td>Contact Owner</td>\n",
       "      <td>1</td>\n",
       "      <td>2</td>\n",
       "    </tr>\n",
       "    <tr>\n",
       "      <th>...</th>\n",
       "      <td>...</td>\n",
       "      <td>...</td>\n",
       "      <td>...</td>\n",
       "      <td>...</td>\n",
       "      <td>...</td>\n",
       "      <td>...</td>\n",
       "      <td>...</td>\n",
       "      <td>...</td>\n",
       "      <td>...</td>\n",
       "      <td>...</td>\n",
       "      <td>...</td>\n",
       "      <td>...</td>\n",
       "      <td>...</td>\n",
       "      <td>...</td>\n",
       "    </tr>\n",
       "    <tr>\n",
       "      <th>4737</th>\n",
       "      <td>4737</td>\n",
       "      <td>2022-05-18</td>\n",
       "      <td>2</td>\n",
       "      <td>15000</td>\n",
       "      <td>1000</td>\n",
       "      <td>Carpet Area</td>\n",
       "      <td>Bandam Kommu</td>\n",
       "      <td>Hyderabad</td>\n",
       "      <td>Semi-Furnished</td>\n",
       "      <td>Bachelors/Family</td>\n",
       "      <td>2</td>\n",
       "      <td>Contact Owner</td>\n",
       "      <td>3</td>\n",
       "      <td>5</td>\n",
       "    </tr>\n",
       "    <tr>\n",
       "      <th>4738</th>\n",
       "      <td>4738</td>\n",
       "      <td>2022-05-15</td>\n",
       "      <td>3</td>\n",
       "      <td>29000</td>\n",
       "      <td>2000</td>\n",
       "      <td>Super Area</td>\n",
       "      <td>Manikonda, Hyderabad</td>\n",
       "      <td>Hyderabad</td>\n",
       "      <td>Semi-Furnished</td>\n",
       "      <td>Bachelors/Family</td>\n",
       "      <td>3</td>\n",
       "      <td>Contact Owner</td>\n",
       "      <td>1</td>\n",
       "      <td>4</td>\n",
       "    </tr>\n",
       "    <tr>\n",
       "      <th>4739</th>\n",
       "      <td>4739</td>\n",
       "      <td>2022-07-10</td>\n",
       "      <td>3</td>\n",
       "      <td>35000</td>\n",
       "      <td>1750</td>\n",
       "      <td>Carpet Area</td>\n",
       "      <td>Himayath Nagar, NH 7</td>\n",
       "      <td>Hyderabad</td>\n",
       "      <td>Semi-Furnished</td>\n",
       "      <td>Bachelors/Family</td>\n",
       "      <td>3</td>\n",
       "      <td>Contact Agent</td>\n",
       "      <td>3</td>\n",
       "      <td>5</td>\n",
       "    </tr>\n",
       "    <tr>\n",
       "      <th>4740</th>\n",
       "      <td>4740</td>\n",
       "      <td>2022-07-06</td>\n",
       "      <td>3</td>\n",
       "      <td>45000</td>\n",
       "      <td>1500</td>\n",
       "      <td>Carpet Area</td>\n",
       "      <td>Gachibowli</td>\n",
       "      <td>Hyderabad</td>\n",
       "      <td>Semi-Furnished</td>\n",
       "      <td>Family</td>\n",
       "      <td>2</td>\n",
       "      <td>Contact Agent</td>\n",
       "      <td>23</td>\n",
       "      <td>34</td>\n",
       "    </tr>\n",
       "    <tr>\n",
       "      <th>4741</th>\n",
       "      <td>4741</td>\n",
       "      <td>2022-05-04</td>\n",
       "      <td>2</td>\n",
       "      <td>15000</td>\n",
       "      <td>1000</td>\n",
       "      <td>Carpet Area</td>\n",
       "      <td>Suchitra Circle</td>\n",
       "      <td>Hyderabad</td>\n",
       "      <td>Unfurnished</td>\n",
       "      <td>Bachelors</td>\n",
       "      <td>2</td>\n",
       "      <td>Contact Owner</td>\n",
       "      <td>4</td>\n",
       "      <td>5</td>\n",
       "    </tr>\n",
       "  </tbody>\n",
       "</table>\n",
       "<p>4742 rows × 14 columns</p>\n",
       "</div>"
      ],
      "text/plain": [
       "      Unnamed: 0   Posted On  BHK(Bathroom, hall & Kitchen)   Rent  Size  \\\n",
       "0              0  2022-05-18                              2  10000  1100   \n",
       "1              1  2022-05-13                              2  20000   800   \n",
       "2              2  2022-05-16                              2  17000  1000   \n",
       "3              3  2022-07-04                              2  10000   800   \n",
       "4              4  2022-05-09                              2   7500   850   \n",
       "...          ...         ...                            ...    ...   ...   \n",
       "4737        4737  2022-05-18                              2  15000  1000   \n",
       "4738        4738  2022-05-15                              3  29000  2000   \n",
       "4739        4739  2022-07-10                              3  35000  1750   \n",
       "4740        4740  2022-07-06                              3  45000  1500   \n",
       "4741        4741  2022-05-04                              2  15000  1000   \n",
       "\n",
       "        Area Type             Area Locality       City Furnishing Status  \\\n",
       "0      Super Area                    Bandel    Kolkata       Unfurnished   \n",
       "1      Super Area  Phool Bagan, Kankurgachi    Kolkata    Semi-Furnished   \n",
       "2      Super Area   Salt Lake City Sector 2    Kolkata    Semi-Furnished   \n",
       "3      Super Area               Dumdum Park    Kolkata       Unfurnished   \n",
       "4     Carpet Area             South Dum Dum    Kolkata       Unfurnished   \n",
       "...           ...                       ...        ...               ...   \n",
       "4737  Carpet Area              Bandam Kommu  Hyderabad    Semi-Furnished   \n",
       "4738   Super Area      Manikonda, Hyderabad  Hyderabad    Semi-Furnished   \n",
       "4739  Carpet Area      Himayath Nagar, NH 7  Hyderabad    Semi-Furnished   \n",
       "4740  Carpet Area                Gachibowli  Hyderabad    Semi-Furnished   \n",
       "4741  Carpet Area           Suchitra Circle  Hyderabad       Unfurnished   \n",
       "\n",
       "      Tenant Preferred  Bathroom Point of Contact House_Floor  Floor_Number  \n",
       "0     Bachelors/Family         2    Contact Owner      Ground             2  \n",
       "1     Bachelors/Family         1    Contact Owner           1             3  \n",
       "2     Bachelors/Family         1    Contact Owner           1             3  \n",
       "3     Bachelors/Family         1    Contact Owner           1             2  \n",
       "4            Bachelors         1    Contact Owner           1             2  \n",
       "...                ...       ...              ...         ...           ...  \n",
       "4737  Bachelors/Family         2    Contact Owner           3             5  \n",
       "4738  Bachelors/Family         3    Contact Owner           1             4  \n",
       "4739  Bachelors/Family         3    Contact Agent           3             5  \n",
       "4740            Family         2    Contact Agent          23            34  \n",
       "4741         Bachelors         2    Contact Owner           4             5  \n",
       "\n",
       "[4742 rows x 14 columns]"
      ]
     },
     "execution_count": 2,
     "metadata": {},
     "output_type": "execute_result"
    }
   ],
   "source": [
    "House_Rent=pd.read_csv(\"Cleaned_House_Rent.csv\")\n",
    "\n",
    "House_Rent"
   ]
  },
  {
   "cell_type": "code",
   "execution_count": 3,
   "id": "a2c00c09-7fc7-4718-ad14-5693c928cc58",
   "metadata": {},
   "outputs": [
    {
     "data": {
      "text/html": [
       "<div>\n",
       "<style scoped>\n",
       "    .dataframe tbody tr th:only-of-type {\n",
       "        vertical-align: middle;\n",
       "    }\n",
       "\n",
       "    .dataframe tbody tr th {\n",
       "        vertical-align: top;\n",
       "    }\n",
       "\n",
       "    .dataframe thead th {\n",
       "        text-align: right;\n",
       "    }\n",
       "</style>\n",
       "<table border=\"1\" class=\"dataframe\">\n",
       "  <thead>\n",
       "    <tr style=\"text-align: right;\">\n",
       "      <th></th>\n",
       "      <th>Unnamed: 0</th>\n",
       "      <th>BHK(Bathroom, hall &amp; Kitchen)</th>\n",
       "      <th>Rent</th>\n",
       "      <th>Size</th>\n",
       "      <th>Bathroom</th>\n",
       "      <th>Floor_Number</th>\n",
       "    </tr>\n",
       "  </thead>\n",
       "  <tbody>\n",
       "    <tr>\n",
       "      <th>count</th>\n",
       "      <td>4742.000000</td>\n",
       "      <td>4742.000000</td>\n",
       "      <td>4.742000e+03</td>\n",
       "      <td>4742.000000</td>\n",
       "      <td>4742.000000</td>\n",
       "      <td>4742.000000</td>\n",
       "    </tr>\n",
       "    <tr>\n",
       "      <th>mean</th>\n",
       "      <td>2370.500000</td>\n",
       "      <td>2.083720</td>\n",
       "      <td>3.500863e+04</td>\n",
       "      <td>967.669970</td>\n",
       "      <td>1.966048</td>\n",
       "      <td>6.973429</td>\n",
       "    </tr>\n",
       "    <tr>\n",
       "      <th>std</th>\n",
       "      <td>1369.041818</td>\n",
       "      <td>0.832245</td>\n",
       "      <td>7.813758e+04</td>\n",
       "      <td>634.355762</td>\n",
       "      <td>0.884555</td>\n",
       "      <td>9.469727</td>\n",
       "    </tr>\n",
       "    <tr>\n",
       "      <th>min</th>\n",
       "      <td>0.000000</td>\n",
       "      <td>1.000000</td>\n",
       "      <td>1.200000e+03</td>\n",
       "      <td>10.000000</td>\n",
       "      <td>1.000000</td>\n",
       "      <td>1.000000</td>\n",
       "    </tr>\n",
       "    <tr>\n",
       "      <th>25%</th>\n",
       "      <td>1185.250000</td>\n",
       "      <td>2.000000</td>\n",
       "      <td>1.000000e+04</td>\n",
       "      <td>550.000000</td>\n",
       "      <td>1.000000</td>\n",
       "      <td>2.000000</td>\n",
       "    </tr>\n",
       "    <tr>\n",
       "      <th>50%</th>\n",
       "      <td>2370.500000</td>\n",
       "      <td>2.000000</td>\n",
       "      <td>1.600000e+04</td>\n",
       "      <td>850.000000</td>\n",
       "      <td>2.000000</td>\n",
       "      <td>4.000000</td>\n",
       "    </tr>\n",
       "    <tr>\n",
       "      <th>75%</th>\n",
       "      <td>3555.750000</td>\n",
       "      <td>3.000000</td>\n",
       "      <td>3.300000e+04</td>\n",
       "      <td>1200.000000</td>\n",
       "      <td>2.000000</td>\n",
       "      <td>6.000000</td>\n",
       "    </tr>\n",
       "    <tr>\n",
       "      <th>max</th>\n",
       "      <td>4741.000000</td>\n",
       "      <td>6.000000</td>\n",
       "      <td>3.500000e+06</td>\n",
       "      <td>8000.000000</td>\n",
       "      <td>10.000000</td>\n",
       "      <td>89.000000</td>\n",
       "    </tr>\n",
       "  </tbody>\n",
       "</table>\n",
       "</div>"
      ],
      "text/plain": [
       "        Unnamed: 0  BHK(Bathroom, hall & Kitchen)          Rent         Size  \\\n",
       "count  4742.000000                    4742.000000  4.742000e+03  4742.000000   \n",
       "mean   2370.500000                       2.083720  3.500863e+04   967.669970   \n",
       "std    1369.041818                       0.832245  7.813758e+04   634.355762   \n",
       "min       0.000000                       1.000000  1.200000e+03    10.000000   \n",
       "25%    1185.250000                       2.000000  1.000000e+04   550.000000   \n",
       "50%    2370.500000                       2.000000  1.600000e+04   850.000000   \n",
       "75%    3555.750000                       3.000000  3.300000e+04  1200.000000   \n",
       "max    4741.000000                       6.000000  3.500000e+06  8000.000000   \n",
       "\n",
       "          Bathroom  Floor_Number  \n",
       "count  4742.000000   4742.000000  \n",
       "mean      1.966048      6.973429  \n",
       "std       0.884555      9.469727  \n",
       "min       1.000000      1.000000  \n",
       "25%       1.000000      2.000000  \n",
       "50%       2.000000      4.000000  \n",
       "75%       2.000000      6.000000  \n",
       "max      10.000000     89.000000  "
      ]
     },
     "execution_count": 3,
     "metadata": {},
     "output_type": "execute_result"
    }
   ],
   "source": [
    "House_Rent.describe()"
   ]
  },
  {
   "cell_type": "markdown",
   "id": "389e7cc8-ab40-4d10-be1b-8670555ca14d",
   "metadata": {},
   "source": [
    "# INFERENTIAL STATISTICS"
   ]
  },
  {
   "cell_type": "markdown",
   "id": "a0318a06-8ff6-4079-ad36-7fa376dbb271",
   "metadata": {},
   "source": [
    "# 1). Correlation"
   ]
  },
  {
   "cell_type": "code",
   "execution_count": 4,
   "id": "e233784a-7281-474e-ab5e-4066965e8a14",
   "metadata": {},
   "outputs": [
    {
     "data": {
      "text/plain": [
       "Index(['Unnamed: 0', 'Posted On', 'BHK(Bathroom, hall & Kitchen)', 'Rent',\n",
       "       'Size', 'Area Type', 'Area Locality', 'City', 'Furnishing Status',\n",
       "       'Tenant Preferred', 'Bathroom', 'Point of Contact', 'House_Floor',\n",
       "       'Floor_Number'],\n",
       "      dtype='object')"
      ]
     },
     "execution_count": 4,
     "metadata": {},
     "output_type": "execute_result"
    }
   ],
   "source": [
    "House_Rent.columns"
   ]
  },
  {
   "cell_type": "code",
   "execution_count": 5,
   "id": "95cd8edb-9e7d-4df6-96ff-2521be570e7b",
   "metadata": {},
   "outputs": [
    {
     "data": {
      "text/html": [
       "<div>\n",
       "<style scoped>\n",
       "    .dataframe tbody tr th:only-of-type {\n",
       "        vertical-align: middle;\n",
       "    }\n",
       "\n",
       "    .dataframe tbody tr th {\n",
       "        vertical-align: top;\n",
       "    }\n",
       "\n",
       "    .dataframe thead th {\n",
       "        text-align: right;\n",
       "    }\n",
       "</style>\n",
       "<table border=\"1\" class=\"dataframe\">\n",
       "  <thead>\n",
       "    <tr style=\"text-align: right;\">\n",
       "      <th></th>\n",
       "      <th>BHK(Bathroom, hall &amp; Kitchen)</th>\n",
       "      <th>Rent</th>\n",
       "      <th>Size</th>\n",
       "    </tr>\n",
       "  </thead>\n",
       "  <tbody>\n",
       "    <tr>\n",
       "      <th>BHK(Bathroom, hall &amp; Kitchen)</th>\n",
       "      <td>1.000000</td>\n",
       "      <td>0.463997</td>\n",
       "      <td>0.641971</td>\n",
       "    </tr>\n",
       "    <tr>\n",
       "      <th>Rent</th>\n",
       "      <td>0.463997</td>\n",
       "      <td>1.000000</td>\n",
       "      <td>0.381077</td>\n",
       "    </tr>\n",
       "    <tr>\n",
       "      <th>Size</th>\n",
       "      <td>0.641971</td>\n",
       "      <td>0.381077</td>\n",
       "      <td>1.000000</td>\n",
       "    </tr>\n",
       "  </tbody>\n",
       "</table>\n",
       "</div>"
      ],
      "text/plain": [
       "                               BHK(Bathroom, hall & Kitchen)      Rent  \\\n",
       "BHK(Bathroom, hall & Kitchen)                       1.000000  0.463997   \n",
       "Rent                                                0.463997  1.000000   \n",
       "Size                                                0.641971  0.381077   \n",
       "\n",
       "                                   Size  \n",
       "BHK(Bathroom, hall & Kitchen)  0.641971  \n",
       "Rent                           0.381077  \n",
       "Size                           1.000000  "
      ]
     },
     "execution_count": 5,
     "metadata": {},
     "output_type": "execute_result"
    }
   ],
   "source": [
    "Kendall_corr=House_Rent[['BHK(Bathroom, hall & Kitchen)','Rent','Size']].corr('kendall')\n",
    "\n",
    "Kendall_corr"
   ]
  },
  {
   "cell_type": "code",
   "execution_count": 6,
   "id": "f99dda2f-8b9a-4dcd-b8fb-21bc06153b0e",
   "metadata": {},
   "outputs": [
    {
     "data": {
      "text/html": [
       "<div>\n",
       "<style scoped>\n",
       "    .dataframe tbody tr th:only-of-type {\n",
       "        vertical-align: middle;\n",
       "    }\n",
       "\n",
       "    .dataframe tbody tr th {\n",
       "        vertical-align: top;\n",
       "    }\n",
       "\n",
       "    .dataframe thead th {\n",
       "        text-align: right;\n",
       "    }\n",
       "</style>\n",
       "<table border=\"1\" class=\"dataframe\">\n",
       "  <thead>\n",
       "    <tr style=\"text-align: right;\">\n",
       "      <th></th>\n",
       "      <th>BHK(Bathroom, hall &amp; Kitchen)</th>\n",
       "      <th>Rent</th>\n",
       "      <th>Size</th>\n",
       "    </tr>\n",
       "  </thead>\n",
       "  <tbody>\n",
       "    <tr>\n",
       "      <th>BHK(Bathroom, hall &amp; Kitchen)</th>\n",
       "      <td>1.000000</td>\n",
       "      <td>0.369942</td>\n",
       "      <td>0.716257</td>\n",
       "    </tr>\n",
       "    <tr>\n",
       "      <th>Rent</th>\n",
       "      <td>0.369942</td>\n",
       "      <td>1.000000</td>\n",
       "      <td>0.413581</td>\n",
       "    </tr>\n",
       "    <tr>\n",
       "      <th>Size</th>\n",
       "      <td>0.716257</td>\n",
       "      <td>0.413581</td>\n",
       "      <td>1.000000</td>\n",
       "    </tr>\n",
       "  </tbody>\n",
       "</table>\n",
       "</div>"
      ],
      "text/plain": [
       "                               BHK(Bathroom, hall & Kitchen)      Rent  \\\n",
       "BHK(Bathroom, hall & Kitchen)                       1.000000  0.369942   \n",
       "Rent                                                0.369942  1.000000   \n",
       "Size                                                0.716257  0.413581   \n",
       "\n",
       "                                   Size  \n",
       "BHK(Bathroom, hall & Kitchen)  0.716257  \n",
       "Rent                           0.413581  \n",
       "Size                           1.000000  "
      ]
     },
     "execution_count": 6,
     "metadata": {},
     "output_type": "execute_result"
    }
   ],
   "source": [
    "# it measures linear relationship between quantities\n",
    "Pearson_corr=House_Rent[['BHK(Bathroom, hall & Kitchen)','Rent','Size']].corr('pearson')\n",
    "\n",
    "Pearson_corr"
   ]
  },
  {
   "cell_type": "code",
   "execution_count": 7,
   "id": "770971d8-9282-4379-a375-48ac2856f7ab",
   "metadata": {},
   "outputs": [
    {
     "data": {
      "text/html": [
       "<div>\n",
       "<style scoped>\n",
       "    .dataframe tbody tr th:only-of-type {\n",
       "        vertical-align: middle;\n",
       "    }\n",
       "\n",
       "    .dataframe tbody tr th {\n",
       "        vertical-align: top;\n",
       "    }\n",
       "\n",
       "    .dataframe thead th {\n",
       "        text-align: right;\n",
       "    }\n",
       "</style>\n",
       "<table border=\"1\" class=\"dataframe\">\n",
       "  <thead>\n",
       "    <tr style=\"text-align: right;\">\n",
       "      <th></th>\n",
       "      <th>BHK(Bathroom, hall &amp; Kitchen)</th>\n",
       "      <th>Rent</th>\n",
       "      <th>Size</th>\n",
       "    </tr>\n",
       "  </thead>\n",
       "  <tbody>\n",
       "    <tr>\n",
       "      <th>BHK(Bathroom, hall &amp; Kitchen)</th>\n",
       "      <td>1.000000</td>\n",
       "      <td>0.568902</td>\n",
       "      <td>0.755251</td>\n",
       "    </tr>\n",
       "    <tr>\n",
       "      <th>Rent</th>\n",
       "      <td>0.568902</td>\n",
       "      <td>1.000000</td>\n",
       "      <td>0.521888</td>\n",
       "    </tr>\n",
       "    <tr>\n",
       "      <th>Size</th>\n",
       "      <td>0.755251</td>\n",
       "      <td>0.521888</td>\n",
       "      <td>1.000000</td>\n",
       "    </tr>\n",
       "  </tbody>\n",
       "</table>\n",
       "</div>"
      ],
      "text/plain": [
       "                               BHK(Bathroom, hall & Kitchen)      Rent  \\\n",
       "BHK(Bathroom, hall & Kitchen)                       1.000000  0.568902   \n",
       "Rent                                                0.568902  1.000000   \n",
       "Size                                                0.755251  0.521888   \n",
       "\n",
       "                                   Size  \n",
       "BHK(Bathroom, hall & Kitchen)  0.755251  \n",
       "Rent                           0.521888  \n",
       "Size                           1.000000  "
      ]
     },
     "execution_count": 7,
     "metadata": {},
     "output_type": "execute_result"
    }
   ],
   "source": [
    "Spearman_corr=House_Rent[['BHK(Bathroom, hall & Kitchen)','Rent','Size']].corr('spearman')\n",
    "\n",
    "Spearman_corr"
   ]
  },
  {
   "cell_type": "code",
   "execution_count": 8,
   "id": "79d7eb3c-fdfc-4920-830a-516d36c2f940",
   "metadata": {},
   "outputs": [
    {
     "data": {
      "text/plain": [
       "Text(0.5, 1.0, 'Spearman')"
      ]
     },
     "execution_count": 8,
     "metadata": {},
     "output_type": "execute_result"
    },
    {
     "data": {
      "image/png": "[encoded data removed]",
      "text/plain": [
       "<Figure size 2000x700 with 3 Axes>"
      ]
     },
     "metadata": {},
     "output_type": "display_data"
    }
   ],
   "source": [
    "fig,axes=plt.subplots(1,3,figsize=(20,7))\n",
    "\n",
    "sns.heatmap(Kendall_corr,ax=axes[0],annot=True,cbar=False)\n",
    "sns.heatmap(Pearson_corr,ax=axes[1],annot=True,cbar=False)\n",
    "sns.heatmap(Spearman_corr,ax=axes[2],annot=True,cbar=False)\n",
    "\n",
    "plt.suptitle('Correlation Matrix of Size,Rent and BHK')\n",
    "\n",
    "axes[0].set_title('Kendall Tau')\n",
    "axes[1].set_title('Pearson')\n",
    "axes[2].set_title('Spearman')\n"
   ]
  },
  {
   "cell_type": "code",
   "execution_count": 9,
   "id": "3738b095-e901-4579-af06-f7bb7d9831ac",
   "metadata": {},
   "outputs": [
    {
     "name": "stdout",
     "output_type": "stream",
     "text": [
      "Alternative Hypothesis, data is not normal, p_value<0.05 in BHK\n"
     ]
    },
    {
     "data": {
      "text/plain": [
       "0.0"
      ]
     },
     "execution_count": 9,
     "metadata": {},
     "output_type": "execute_result"
    }
   ],
   "source": [
    "# 2.) t-test/Hypothesis Testing-checks normalcy between quantities\n",
    "p_value=0.05\n",
    "\n",
    "H0='Null Hypothesis, data is normal, p_value>0.05'\n",
    "H1='Alternative Hypothesis, data is not normal, p_value<0.05'\n",
    "\n",
    "stats,p_value=shapiro(House_Rent['BHK(Bathroom, hall & Kitchen)'].values)\n",
    "\n",
    "if p_value<0.05:\n",
    "    print(f'{H1} in BHK')\n",
    "else:\n",
    "    print(f'{H0} in BHK')\n",
    "\n",
    "p_value"
   ]
  },
  {
   "cell_type": "code",
   "execution_count": 10,
   "id": "42ca0dce-8f49-4341-9ae8-f50e6edde8bd",
   "metadata": {},
   "outputs": [
    {
     "name": "stdout",
     "output_type": "stream",
     "text": [
      "T-Statistic:  10.524296906037602\n",
      "P-Value:  2.654291192400322e-24\n",
      "Alternative Hypothesis, there is significant difference between the rent of the furnished and unfurnished apartments\n"
     ]
    }
   ],
   "source": [
    "H0='Null Hypothesis, theere is no significant difference'\n",
    "H1='Alternative Hypothesis, there is significant difference'\n",
    "\n",
    "Furnished_Rent=House_Rent[House_Rent['Furnishing Status']=='Furnished']['Rent']\n",
    "Unfurnished_Rent=House_Rent[House_Rent['Furnishing Status']=='Unfurnished']['Rent']\n",
    "t_stat,p_value=ttest_ind(Furnished_Rent,Unfurnished_Rent,equal_var=False)\n",
    "\n",
    "print(\"T-Statistic: \",t_stat)\n",
    "print(\"P-Value: \",p_value)\n",
    "\n",
    "if p_value<0.05:\n",
    "    print(f'{H1} between the rent of the furnished and unfurnished apartments')\n",
    "else:\n",
    "    print(f'{H0} between the rent of the furnished and unfurnished apartments')"
   ]
  },
  {
   "cell_type": "code",
   "execution_count": 11,
   "id": "f0763153-ef42-4b6e-aa0d-dccf520b1dba",
   "metadata": {},
   "outputs": [
    {
     "name": "stdout",
     "output_type": "stream",
     "text": [
      "T-Statistic:  1.8054609616717665\n",
      "P-Value:  0.31744159203891564\n",
      "Null Hypothesis, there is no significant difference in rent between a super area and a built area\n"
     ]
    }
   ],
   "source": [
    "# Write a code that compares the average rent with the super area and built area. Know if there is a difference between the two areas or not.\n",
    "\n",
    "H0='Null Hypothesis, there is no significant difference'\n",
    "H1='Alternative Hypothesis, there is significant difference'\n",
    "\n",
    "Super_Rent=House_Rent[House_Rent['Area Type']=='Super Area']['Rent']\n",
    "Built_Rent=House_Rent[House_Rent['Area Type']=='Built Area']['Rent']\n",
    "t_stat,p_value=ttest_ind(Super_Rent,Built_Rent,equal_var=False)\n",
    "\n",
    "print(\"T-Statistic: \",t_stat)\n",
    "print(\"P-Value: \",p_value)\n",
    "\n",
    "if p_value<0.05:\n",
    "    print(f'{H1} in rent between a super area and a built area')\n",
    "else:\n",
    "    print(f'{H0} in rent between a super area and a built area')"
   ]
  },
  {
   "cell_type": "code",
   "execution_count": 12,
   "id": "8fc9fdf7-3406-40fb-9dbb-c98c53148239",
   "metadata": {},
   "outputs": [
    {
     "name": "stdout",
     "output_type": "stream",
     "text": [
      "T-Statistic:  -14.791287090698571\n",
      "P-Value:  1.5356186843427016e-47\n",
      "Alternative Hypothesis, there is significant difference in rent between a super area and a carpet area\n"
     ]
    }
   ],
   "source": [
    "# Write a code that compares the average rent with the super area and carpet area. Know if there is a difference between the two areas or not.\n",
    "\n",
    "H0='Null Hypothesis, there is no significant difference'\n",
    "H1='Alternative Hypothesis, there is significant difference'\n",
    "\n",
    "Super_Rent=House_Rent[House_Rent['Area Type']=='Super Area']['Rent']\n",
    "Carpet_Rent=House_Rent[House_Rent['Area Type']=='Carpet Area']['Rent']\n",
    "t_stat,p_value=ttest_ind(Super_Rent,Carpet_Rent,equal_var=False)\n",
    "\n",
    "print(\"T-Statistic: \",t_stat)\n",
    "print(\"P-Value: \",p_value)\n",
    "\n",
    "if p_value<0.05:\n",
    "    print(f'{H1} in rent between a super area and a carpet area')\n",
    "else:\n",
    "    print(f'{H0} in rent between a super area and a carpet area')"
   ]
  },
  {
   "cell_type": "code",
   "execution_count": 13,
   "id": "22527668-5bfd-41ee-abef-618caf617f5c",
   "metadata": {},
   "outputs": [
    {
     "name": "stdout",
     "output_type": "stream",
     "text": [
      "T-Statistic:  8.349230119051098\n",
      "P-Value:  0.028475844409037353\n",
      "Alternative Hypothesis, there is significant difference in rent between a built area and a carpet area\n"
     ]
    }
   ],
   "source": [
    "# Write a code that compares the average rent with the carpet area and built area. Know if there is a difference between the two areas or not.\n",
    "\n",
    "H0='Null Hypothesis, there is no significant difference'\n",
    "H1='Alternative Hypothesis, there is significant difference'\n",
    "\n",
    "Carpet_Rent=House_Rent[House_Rent['Area Type']=='Carpet Area']['Rent']\n",
    "Built_Rent=House_Rent[House_Rent['Area Type']=='Built Area']['Rent']\n",
    "t_stat,p_value=ttest_ind(Carpet_Rent,Built_Rent,equal_var=False)\n",
    "\n",
    "print(\"T-Statistic: \",t_stat)\n",
    "print(\"P-Value: \",p_value)\n",
    "\n",
    "if p_value<0.05:\n",
    "    print(f'{H1} in rent between a built area and a carpet area')\n",
    "else:\n",
    "    print(f'{H0} in rent between a built area and a carpet area')"
   ]
  },
  {
   "cell_type": "markdown",
   "id": "f23d76eb-95d0-4117-9015-1b014403006e",
   "metadata": {},
   "source": [
    "# ANOVA-Analysis of Variance"
   ]
  },
  {
   "cell_type": "code",
   "execution_count": 14,
   "id": "b4ad4814-a8b0-40ec-b177-104f0e3bced9",
   "metadata": {},
   "outputs": [
    {
     "data": {
      "text/plain": [
       "array(['Kolkata', 'Mumbai', 'Bangalore', 'Delhi', 'Chennai', 'Hyderabad'],\n",
       "      dtype=object)"
      ]
     },
     "execution_count": 14,
     "metadata": {},
     "output_type": "execute_result"
    }
   ],
   "source": [
    "# ANOVA helps with mean of three or more groups\n",
    "House_Rent['City'].unique()"
   ]
  },
  {
   "cell_type": "code",
   "execution_count": 15,
   "id": "803c449b-6869-404c-95a8-53bcef1922b8",
   "metadata": {},
   "outputs": [
    {
     "name": "stdout",
     "output_type": "stream",
     "text": [
      "stats:117.50581101257114 \n",
      "p_value:1.7334420745338585e-117\n",
      "Alternative Hypothesis, there is significant difference between the rent of the cities\n"
     ]
    }
   ],
   "source": [
    "H0='Null Hypothesis, there is no significant difference'\n",
    "H1='Alternative Hypothesis, there is significant difference'\n",
    "\n",
    "stats,p_value=f_oneway(\n",
    "    House_Rent[House_Rent['City']=='Kolkata']['Rent'].values,\n",
    "    House_Rent[House_Rent['City']=='Mumbai']['Rent'].values,\n",
    "    House_Rent[House_Rent['City']=='Bangalore']['Rent'].values,\n",
    "    House_Rent[House_Rent['City']=='Delhi']['Rent'].values,\n",
    "    House_Rent[House_Rent['City']=='Chennai']['Rent'].values,\n",
    "    House_Rent[House_Rent['City']=='Hyderabad']['Rent'].values,\n",
    ")\n",
    "\n",
    "print(f'stats:{stats} \\np_value:{p_value}')\n",
    "\n",
    "if p_value<0.05:\n",
    "    print(f'{H1} between the rent of the cities')\n",
    "\n",
    "else:\n",
    "    print(f'{H0} between the rent of the cities')\n",
    "    "
   ]
  },
  {
   "cell_type": "code",
   "execution_count": 16,
   "id": "e4ef1e78-640c-44e7-bea3-86b8fe8b110d",
   "metadata": {},
   "outputs": [
    {
     "data": {
      "text/plain": [
       "array(['Super Area', 'Carpet Area', 'Built Area'], dtype=object)"
      ]
     },
     "execution_count": 16,
     "metadata": {},
     "output_type": "execute_result"
    }
   ],
   "source": [
    "House_Rent['Area Type'].unique()"
   ]
  },
  {
   "cell_type": "code",
   "execution_count": 17,
   "id": "d5d12502-a36c-47e5-b00b-2f2acbf56a43",
   "metadata": {},
   "outputs": [
    {
     "name": "stdout",
     "output_type": "stream",
     "text": [
      "stats:115.83480180772216 \n",
      "p_value:7.665810316509855e-50\n",
      "Alternative Hypothesis, there is significant difference between the rent of the areas\n"
     ]
    }
   ],
   "source": [
    "# Using one way anova, check if there is significant differences in the rent of the different area type\n",
    "\n",
    "H0='Null Hypothesis, there is no significant difference'\n",
    "H1='Alternative Hypothesis, there is significant difference'\n",
    "\n",
    "stats,p_value=f_oneway(\n",
    "    House_Rent[House_Rent['Area Type']=='Super Area']['Rent'].values,\n",
    "    House_Rent[House_Rent['Area Type']=='Carpet Area']['Rent'].values,\n",
    "    House_Rent[House_Rent['Area Type']=='Built Area']['Rent'].values\n",
    ")\n",
    "\n",
    "print(f'stats:{stats} \\np_value:{p_value}')\n",
    "\n",
    "if p_value<0.05:\n",
    "    print(f'{H1} between the rent of the areas')\n",
    "\n",
    "else:\n",
    "    print(f'{H0} between the rent of the areas')"
   ]
  },
  {
   "cell_type": "code",
   "execution_count": 18,
   "id": "a07692e6-e91e-49f5-9b8d-6398259025e9",
   "metadata": {},
   "outputs": [
    {
     "name": "stdout",
     "output_type": "stream",
     "text": [
      "F-Statistic:  117.50581101257114\n",
      "P_Value:  1.7334420745338585e-117\n",
      "Alternative Hypothesis, there is significant difference between the rent of the cities\n"
     ]
    }
   ],
   "source": [
    "City_Rent=[House_Rent[House_Rent['City']==city]['Rent'] for city in House_Rent['City'].unique()]\n",
    "\n",
    "anova_stat,anova_p=f_oneway(*City_Rent)\n",
    "\n",
    "print(f'F-Statistic: ', anova_stat)\n",
    "print(f'P_Value: ', anova_p)\n",
    "\n",
    "if p_value<0.05:\n",
    "    print(f'{H1} between the rent of the cities')\n",
    "\n",
    "else:\n",
    "    print(f'{H0} between the rent of the cities')"
   ]
  },
  {
   "cell_type": "code",
   "execution_count": 19,
   "id": "a9227705-a973-4af6-b9c9-a14fb7710871",
   "metadata": {},
   "outputs": [
    {
     "data": {
      "text/plain": [
       "array(['Contact Owner', 'Contact Agent', 'Contact Builder'], dtype=object)"
      ]
     },
     "execution_count": 19,
     "metadata": {},
     "output_type": "execute_result"
    }
   ],
   "source": [
    "House_Rent['Point of Contact'].unique()"
   ]
  },
  {
   "cell_type": "code",
   "execution_count": 20,
   "id": "938fbf6f-bf38-4556-9a5e-23a8336477b0",
   "metadata": {},
   "outputs": [
    {
     "name": "stdout",
     "output_type": "stream",
     "text": [
      "F-Statistic:  309.09604523505004\n",
      "P_Value:  6.651444070417695e-127\n",
      "Alternative Hypothesis, there is significant difference in the rent based on the point of contact\n"
     ]
    }
   ],
   "source": [
    "# Using one way anova, chack if there are differences in the rent based on the point of contact\n",
    "PoC_Rent=[House_Rent[House_Rent['Point of Contact']==PoC]['Rent'] for PoC in House_Rent['Point of Contact'].unique()]\n",
    "\n",
    "anova_stat,anova_p=f_oneway(*PoC_Rent)\n",
    "\n",
    "print(f'F-Statistic: ', anova_stat)\n",
    "print(f'P_Value: ', anova_p)\n",
    "\n",
    "if p_value<0.05:\n",
    "    print(f'{H1} in the rent based on the point of contact')\n",
    "\n",
    "else:\n",
    "    print(f'{H0} in the rent based on thhe point of contact')"
   ]
  },
  {
   "cell_type": "markdown",
   "id": "65eb6467-c0b4-4633-9bc0-c94ac4f3af3a",
   "metadata": {},
   "source": [
    "# Chi Square Test"
   ]
  },
  {
   "cell_type": "code",
   "execution_count": 21,
   "id": "2b93e7ac-2745-42a1-9880-21c175aaa7e5",
   "metadata": {},
   "outputs": [
    {
     "data": {
      "text/plain": [
       "array(['Bachelors/Family', 'Bachelors', 'Family'], dtype=object)"
      ]
     },
     "execution_count": 21,
     "metadata": {},
     "output_type": "execute_result"
    }
   ],
   "source": [
    "House_Rent['Tenant Preferred'].unique()"
   ]
  },
  {
   "cell_type": "code",
   "execution_count": 22,
   "id": "ecbc486b-d83b-425c-8b36-c173029e494e",
   "metadata": {},
   "outputs": [
    {
     "data": {
      "text/plain": [
       "array(['Unfurnished', 'Semi-Furnished', 'Furnished'], dtype=object)"
      ]
     },
     "execution_count": 22,
     "metadata": {},
     "output_type": "execute_result"
    }
   ],
   "source": [
    "House_Rent['Furnishing Status'].unique()"
   ]
  },
  {
   "cell_type": "code",
   "execution_count": 26,
   "id": "db36504d-714b-4e08-afe1-d88490fd34f7",
   "metadata": {},
   "outputs": [
    {
     "name": "stdout",
     "output_type": "stream",
     "text": [
      "Chi-Square Statistics:  57.77795830080092\n",
      "P_Value:  8.495459019058646e-12\n",
      "Degree of Freedom:  4\n",
      "Expected Frequencies:  [[ 118.67144665  393.8211725   317.50738085]\n",
      " [ 491.98608182 1632.69717419 1316.31674399]\n",
      " [  67.34247153  223.48165331  180.17587516]]\n",
      "Alternative Hypothesis, there is significant difference\n"
     ]
    }
   ],
   "source": [
    "H0='Null Hypothesis, there is no significant difference'\n",
    "H1='Alternative Hypothesis, there is significant difference'\n",
    "\n",
    "Contingency_table=pd.crosstab(House_Rent['Tenant Preferred'],House_Rent['Furnishing Status'])\n",
    "\n",
    "chi2,p_value,dof,expected=chi2_contingency(Contingency_table)\n",
    "\n",
    "print('Chi-Square Statistics: ',chi2)\n",
    "print('P_Value: ',p_value)\n",
    "print('Degree of Freedom: ',dof)\n",
    "print('Expected Frequencies: ',expected)\n",
    "\n",
    "if p_value<0.05:\n",
    "    print(f'{H1}')\n",
    "else:\n",
    "    print(f'{H0}')"
   ]
  },
  {
   "cell_type": "code",
   "execution_count": null,
   "id": "ea9d418c-388c-4534-962a-df3c1990e8d1",
   "metadata": {},
   "outputs": [],
   "source": []
  }
 ],
 "metadata": {
  "kernelspec": {
   "display_name": "Python 3 (ipykernel)",
   "language": "python",
   "name": "python3"
  },
  "language_info": {
   "codemirror_mode": {
    "name": "ipython",
    "version": 3
   },
   "file_extension": ".py",
   "mimetype": "text/x-python",
   "name": "python",
   "nbconvert_exporter": "python",
   "pygments_lexer": "ipython3",
   "version": "3.11.7"
  }
 },
 "nbformat": 4,
 "nbformat_minor": 5
}
