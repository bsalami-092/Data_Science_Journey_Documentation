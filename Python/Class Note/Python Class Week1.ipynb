{
 "cells": [
  {
   "cell_type": "code",
   "execution_count": 1,
   "id": "aa67d70b-eaa6-4fce-b3f6-2049de495995",
   "metadata": {},
   "outputs": [
    {
     "data": {
      "text/plain": [
       "'Welcome to Appclick'"
      ]
     },
     "execution_count": 1,
     "metadata": {},
     "output_type": "execute_result"
    }
   ],
   "source": [
    "\"Welcome to Appclick\""
   ]
  },
  {
   "cell_type": "code",
   "execution_count": 3,
   "id": "1a53e386-d900-4dcc-8dee-3a1102831809",
   "metadata": {},
   "outputs": [
    {
     "name": "stdout",
     "output_type": "stream",
     "text": [
      "Welcome to Appclick\n"
     ]
    }
   ],
   "source": [
    "print(\"Welcome to Appclick\")"
   ]
  },
  {
   "cell_type": "markdown",
   "id": "5bd07810-55c2-4259-85ee-a9f77cd94aec",
   "metadata": {},
   "source": [
    "VALUES, VARIABLES AND ASSIGNMENT OPERATOR"
   ]
  },
  {
   "cell_type": "code",
   "execution_count": 4,
   "id": "52172188-947e-44b7-84bc-e41f49f1b9cf",
   "metadata": {},
   "outputs": [
    {
     "name": "stdout",
     "output_type": "stream",
     "text": [
      "5\n"
     ]
    }
   ],
   "source": [
    "X=5\n",
    "print(X)"
   ]
  },
  {
   "cell_type": "code",
   "execution_count": 8,
   "id": "55801ff6-f158-4f89-a3c7-6e599ba113a5",
   "metadata": {},
   "outputs": [
    {
     "name": "stdout",
     "output_type": "stream",
     "text": [
      "10\n"
     ]
    }
   ],
   "source": [
    "X=10\n",
    "print(X)"
   ]
  },
  {
   "cell_type": "markdown",
   "id": "8743a86a-72d5-4c1d-912f-f6c3ef0a791d",
   "metadata": {},
   "source": [
    "MAJOR DATA TYPES\n",
    "1) Strings\n",
    "2) Numbers - decimal, whole number, float, complex, etc.\n",
    "3) Boolean"
   ]
  },
  {
   "cell_type": "code",
   "execution_count": 6,
   "id": "105d0d52-6a93-4f5d-bf76-6749e358ea01",
   "metadata": {},
   "outputs": [
    {
     "name": "stdout",
     "output_type": "stream",
     "text": [
      "John\n",
      "True\n",
      "24\n",
      "5.2\n",
      "3j\n"
     ]
    }
   ],
   "source": [
    "Name = \"John\"\n",
    "Male = True\n",
    "Age = 24\n",
    "Height = 5.2\n",
    "Class = 3j\n",
    "print(Name)\n",
    "print(Male)\n",
    "print(Age)\n",
    "print(Height)\n",
    "print(Class)"
   ]
  },
  {
   "cell_type": "code",
   "execution_count": 7,
   "id": "d2301f54-3f9d-4d4e-9931-8292c80d4402",
   "metadata": {},
   "outputs": [
    {
     "name": "stdout",
     "output_type": "stream",
     "text": [
      "<class 'str'>\n",
      "<class 'bool'>\n",
      "<class 'int'>\n",
      "<class 'float'>\n",
      "<class 'complex'>\n"
     ]
    }
   ],
   "source": [
    "print(type(Name))\n",
    "print(type(Male))\n",
    "print(type(Age))\n",
    "print(type(Height))\n",
    "print(type(Class))"
   ]
  },
  {
   "cell_type": "markdown",
   "id": "0a9a9a25-4c62-425e-b3ae-1d30fc92867d",
   "metadata": {},
   "source": [
    "Another way to comment\n",
    "\"\"\"\n",
    "OPERATORS IN PYTHON\n",
    "Arithimetic Operator: (+,-,*,/,**,%,//)\n",
    "Assignment Operator: (=,+=,-=,/=)\n",
    "Comparison Operator: (==, !=, >, <, >=, <=)\n",
    "Logical Operator: (and, or, not)\n",
    "\"\"\""
   ]
  },
  {
   "cell_type": "code",
   "execution_count": 11,
   "id": "f9b801e8-0812-46a2-8c1a-8cb8f8d7d73c",
   "metadata": {},
   "outputs": [
    {
     "name": "stdout",
     "output_type": "stream",
     "text": [
      "22.5\n"
     ]
    }
   ],
   "source": [
    "# Arithimetic Operator: (+,-,*,/,**,%,//)\n",
    "X= 10\n",
    "Y = 12.5\n",
    "Add = X+Y\n",
    "print(Add)"
   ]
  },
  {
   "cell_type": "code",
   "execution_count": 12,
   "id": "a97ea26b-8f61-458d-9f76-7cb4186dd9dd",
   "metadata": {},
   "outputs": [
    {
     "name": "stdout",
     "output_type": "stream",
     "text": [
      "22.5\n",
      "-2.5\n"
     ]
    }
   ],
   "source": [
    "print(X+Y)\n",
    "print(X-Y)"
   ]
  },
  {
   "cell_type": "code",
   "execution_count": 13,
   "id": "89ac6db4-4f2d-4ab5-9b2c-eb8c6aeeb420",
   "metadata": {},
   "outputs": [
    {
     "name": "stdout",
     "output_type": "stream",
     "text": [
      "3.3333333333333335\n"
     ]
    }
   ],
   "source": [
    "y = 10\n",
    "z = 3\n",
    "Division = y/z\n",
    "print(Division)"
   ]
  },
  {
   "cell_type": "code",
   "execution_count": 14,
   "id": "f3e550c8-b931-4159-8243-67f710924477",
   "metadata": {},
   "outputs": [
    {
     "name": "stdout",
     "output_type": "stream",
     "text": [
      "1\n"
     ]
    }
   ],
   "source": [
    "Modulo = y%z\n",
    "print(Modulo)"
   ]
  },
  {
   "cell_type": "code",
   "execution_count": 15,
   "id": "ec8cd875-7b0b-4343-a364-512911362c46",
   "metadata": {},
   "outputs": [
    {
     "name": "stdout",
     "output_type": "stream",
     "text": [
      "1000\n"
     ]
    }
   ],
   "source": [
    "Exponential = y**z\n",
    "print(Exponential)"
   ]
  },
  {
   "cell_type": "code",
   "execution_count": 16,
   "id": "ec545356-4305-449d-a0bb-2db748d55a3f",
   "metadata": {},
   "outputs": [
    {
     "name": "stdout",
     "output_type": "stream",
     "text": [
      "3\n"
     ]
    }
   ],
   "source": [
    "FloorDivision = y//z\n",
    "print(FloorDivision)"
   ]
  },
  {
   "cell_type": "code",
   "execution_count": 20,
   "id": "0a1f0360-b20f-49c3-8eb8-3332fb681e34",
   "metadata": {},
   "outputs": [
    {
     "name": "stdout",
     "output_type": "stream",
     "text": [
      "6\n"
     ]
    }
   ],
   "source": [
    "# Assignment Operator: (=,+=,-=,/=) -Assignment operators helps to change a variable value to what you need \n",
    "X = 10\n",
    "X -= 4\n",
    "print(X)"
   ]
  },
  {
   "cell_type": "code",
   "execution_count": 18,
   "id": "d3bd1d33-eb42-4b04-b020-1a7be4497e49",
   "metadata": {},
   "outputs": [
    {
     "name": "stdout",
     "output_type": "stream",
     "text": [
      "12\n"
     ]
    }
   ],
   "source": [
    "X += 6\n",
    "print(X)"
   ]
  },
  {
   "cell_type": "code",
   "execution_count": 21,
   "id": "201d8183-23bf-4d09-b957-a512b2679135",
   "metadata": {},
   "outputs": [
    {
     "name": "stdout",
     "output_type": "stream",
     "text": [
      "False\n"
     ]
    }
   ],
   "source": [
    "# Comparison Operator: (==, !=, >, <, >=, <=) - The major output is true or false\n",
    "X = 10\n",
    "Y = 12\n",
    "Compare=X==Y\n",
    "print(Compare)\n"
   ]
  },
  {
   "cell_type": "code",
   "execution_count": 22,
   "id": "8d1cd4c1-f266-47a1-acb1-4c206d6fdb4f",
   "metadata": {},
   "outputs": [
    {
     "name": "stdout",
     "output_type": "stream",
     "text": [
      "True\n"
     ]
    }
   ],
   "source": [
    "Compare=X!=Y\n",
    "print(Compare)"
   ]
  },
  {
   "cell_type": "code",
   "execution_count": 23,
   "id": "99adaf30-fc7d-4d82-a326-18bab007e352",
   "metadata": {},
   "outputs": [
    {
     "name": "stdout",
     "output_type": "stream",
     "text": [
      "False\n"
     ]
    }
   ],
   "source": [
    "print(X>Y)"
   ]
  },
  {
   "cell_type": "code",
   "execution_count": 24,
   "id": "6077bf89-2a88-4ef6-b4a6-f8032a739be5",
   "metadata": {},
   "outputs": [
    {
     "name": "stdout",
     "output_type": "stream",
     "text": [
      "True\n"
     ]
    }
   ],
   "source": [
    "print(X<Y)"
   ]
  },
  {
   "cell_type": "code",
   "execution_count": 25,
   "id": "822e5873-dfe5-4a93-ad15-842e8928e874",
   "metadata": {},
   "outputs": [
    {
     "name": "stdout",
     "output_type": "stream",
     "text": [
      "True\n"
     ]
    }
   ],
   "source": [
    "# Logical Operator: (and, or, not)\n",
    "Andd = X==10 and Y==12\n",
    "print(Andd)"
   ]
  },
  {
   "cell_type": "code",
   "execution_count": 26,
   "id": "48b1dc19-3c0f-4dc9-80b7-3d895404b0e2",
   "metadata": {},
   "outputs": [
    {
     "name": "stdout",
     "output_type": "stream",
     "text": [
      "False\n"
     ]
    }
   ],
   "source": [
    "Andd = not(X==10 and Y==12)\n",
    "print(Andd)"
   ]
  },
  {
   "cell_type": "code",
   "execution_count": null,
   "id": "3f270470-dd7d-4b7a-9678-6faa048b3748",
   "metadata": {},
   "outputs": [],
   "source": []
  },
  {
   "cell_type": "code",
   "execution_count": 27,
   "id": "0cab2deb-e640-4c9c-9b1a-25e09f027e57",
   "metadata": {},
   "outputs": [
    {
     "name": "stdout",
     "output_type": "stream",
     "text": [
      "True\n"
     ]
    }
   ],
   "source": [
    "OR = X==10 or Y==7\n",
    "print(OR)"
   ]
  },
  {
   "cell_type": "code",
   "execution_count": 29,
   "id": "601dfd14-6f4c-4466-9d34-ac80c5e91b8e",
   "metadata": {},
   "outputs": [
    {
     "name": "stdout",
     "output_type": "stream",
     "text": [
      "My name is John\n"
     ]
    }
   ],
   "source": [
    "# CONCATENATION\n",
    "Name = \"John\"\n",
    "Age = 24\n",
    "\n",
    "print('My name is ' + Name)\n",
    "\n"
   ]
  },
  {
   "cell_type": "code",
   "execution_count": 31,
   "id": "6537e489-373d-4019-9bcc-0941ff282849",
   "metadata": {},
   "outputs": [
    {
     "name": "stdout",
     "output_type": "stream",
     "text": [
      "My name is John and I am 24 years old\n"
     ]
    }
   ],
   "source": [
    "print(f'My name is {Name} and I am {Age} years old')"
   ]
  },
  {
   "cell_type": "code",
   "execution_count": 9,
   "id": "fa5d596e-ce5d-4df4-b113-1d311d0a1105",
   "metadata": {},
   "outputs": [
    {
     "name": "stdout",
     "output_type": "stream",
     "text": [
      "Alex\n",
      "lex\n"
     ]
    }
   ],
   "source": [
    "# SLICING -Python indexing starts from zero\n",
    "Name = \"Alexander\"\n",
    "print(Name[0:4])\n",
    "print(Name[1:4])"
   ]
  },
  {
   "cell_type": "code",
   "execution_count": 34,
   "id": "3b137827-454c-4d35-99c1-863aba21f9e8",
   "metadata": {},
   "outputs": [
    {
     "name": "stdout",
     "output_type": "stream",
     "text": [
      "and\n"
     ]
    }
   ],
   "source": [
    "print(Name[-5:-2])"
   ]
  },
  {
   "cell_type": "code",
   "execution_count": 35,
   "id": "16185429-bb30-4f76-bc92-4e14a8e62580",
   "metadata": {},
   "outputs": [
    {
     "name": "stdout",
     "output_type": "stream",
     "text": [
      "matthew jones\n"
     ]
    }
   ],
   "source": [
    "# String Methods - Used to manipulate data\n",
    "Fullname = 'Matthew Jones'\n",
    "print(Fullname.lower())"
   ]
  },
  {
   "cell_type": "code",
   "execution_count": 25,
   "id": "be046723-18af-41da-a366-a1542119b12c",
   "metadata": {},
   "outputs": [
    {
     "name": "stdout",
     "output_type": "stream",
     "text": [
      "['Rice', 'Beans', 'Yam', 'Egg']\n",
      "<class 'list'>\n"
     ]
    }
   ],
   "source": [
    "# Advanced Data Types\n",
    "# List : []\n",
    "\n",
    "Food = ['Rice', 'Beans', 'Yam', 'Egg']\n",
    "print(Food)\n",
    "print(type(Food))"
   ]
  },
  {
   "cell_type": "code",
   "execution_count": 26,
   "id": "84921fca-4e1d-4cc4-9505-9d4de25dfcbb",
   "metadata": {},
   "outputs": [
    {
     "name": "stdout",
     "output_type": "stream",
     "text": [
      "Beans\n"
     ]
    }
   ],
   "source": [
    "print(Food[1])"
   ]
  },
  {
   "cell_type": "code",
   "execution_count": 27,
   "id": "6352635a-8e97-466e-be0e-24813fda3fc4",
   "metadata": {},
   "outputs": [
    {
     "name": "stdout",
     "output_type": "stream",
     "text": [
      "['Rice', 'Spaghetti', 'Yam', 'Egg']\n"
     ]
    }
   ],
   "source": [
    "#Change one of the items in the list\n",
    "Food[1]= 'Spaghetti'\n",
    "print(Food)"
   ]
  },
  {
   "cell_type": "code",
   "execution_count": 28,
   "id": "f975ec2a-3085-4c81-ac64-da7e823a174a",
   "metadata": {},
   "outputs": [
    {
     "name": "stdout",
     "output_type": "stream",
     "text": [
      "4\n"
     ]
    }
   ],
   "source": [
    "# Printing the length of the values in the list\n",
    "print(len(Food))"
   ]
  },
  {
   "cell_type": "code",
   "execution_count": 29,
   "id": "44a5e507-9583-4fd5-ac82-952678d2462a",
   "metadata": {},
   "outputs": [
    {
     "name": "stdout",
     "output_type": "stream",
     "text": [
      "['Rice', 'Spaghetti', 'Yam', 'Egg', 'Fufu']\n"
     ]
    }
   ],
   "source": [
    "# Adding an extra item to the list\n",
    "Food.append('Fufu')\n",
    "print(Food)\n"
   ]
  },
  {
   "cell_type": "code",
   "execution_count": 30,
   "id": "ef0aff47-71aa-4a59-ae1f-54c64e5cf26b",
   "metadata": {},
   "outputs": [
    {
     "name": "stdout",
     "output_type": "stream",
     "text": [
      "['Rice', 'Garri', 'Spaghetti', 'Yam', 'Egg', 'Fufu']\n"
     ]
    }
   ],
   "source": [
    "Food.insert(1,'Garri')\n",
    "print(Food)"
   ]
  },
  {
   "cell_type": "code",
   "execution_count": 31,
   "id": "5053adc0-5a92-4026-b0df-ec6385f6973b",
   "metadata": {},
   "outputs": [
    {
     "name": "stdout",
     "output_type": "stream",
     "text": [
      "['Rice', 'Garri', 'Spaghetti', 'Yam', 'Egg']\n"
     ]
    }
   ],
   "source": [
    "# To remove an item\n",
    "Food.remove('Fufu')\n",
    "print(Food)"
   ]
  },
  {
   "cell_type": "code",
   "execution_count": 33,
   "id": "09556ce8-521e-4ab9-974e-012a366b1228",
   "metadata": {},
   "outputs": [
    {
     "name": "stdout",
     "output_type": "stream",
     "text": [
      "('Sade', 'Gift', 'Peace')\n",
      "<class 'tuple'>\n"
     ]
    }
   ],
   "source": [
    "# Tuple() - They are type of data that are not ordered and not changeable\n",
    "\n",
    "Names= ('Sade', 'Gift', 'Peace')\n",
    "print(Names)\n",
    "print(type(Names))"
   ]
  },
  {
   "cell_type": "code",
   "execution_count": 34,
   "id": "c102c194-c527-4f8b-9c8f-3cad1088c32e",
   "metadata": {},
   "outputs": [
    {
     "data": {
      "text/plain": [
       "0"
      ]
     },
     "execution_count": 34,
     "metadata": {},
     "output_type": "execute_result"
    }
   ],
   "source": [
    "Names.count(1)"
   ]
  },
  {
   "cell_type": "code",
   "execution_count": 35,
   "id": "ee6ee53e-0726-46f4-af9b-e6bc12001aa1",
   "metadata": {},
   "outputs": [
    {
     "name": "stdout",
     "output_type": "stream",
     "text": [
      "3\n"
     ]
    }
   ],
   "source": [
    "print(len(Names))"
   ]
  },
  {
   "cell_type": "code",
   "execution_count": 39,
   "id": "dd98025c-351e-4d02-9982-a9ddfa197aee",
   "metadata": {},
   "outputs": [
    {
     "name": "stdout",
     "output_type": "stream",
     "text": [
      "{'England', 'Nigeria', 'Russia', 'China'}\n",
      "<class 'set'>\n"
     ]
    }
   ],
   "source": [
    "# Sets - It is unordered\n",
    "Countries = {'Nigeria', 'China', 'England', 'Russia'}\n",
    "print(Countries)\n",
    "print(type(Countries))"
   ]
  },
  {
   "cell_type": "markdown",
   "id": "5efd2fa7-00d9-49c1-a47b-3e81b9040d96",
   "metadata": {},
   "source": [
    "Different methods of set\n",
    "Add\n",
    "Update\n",
    "Pop"
   ]
  },
  {
   "cell_type": "code",
   "execution_count": 40,
   "id": "01148609-8c37-4726-9827-7219c6338ca0",
   "metadata": {},
   "outputs": [
    {
     "name": "stdout",
     "output_type": "stream",
     "text": [
      "{'Nigeria', 'China', 'Russia', 'Qatar', 'England'}\n"
     ]
    }
   ],
   "source": [
    "# To add\n",
    "Countries.add('Qatar')\n",
    "print(Countries)"
   ]
  },
  {
   "cell_type": "code",
   "execution_count": 41,
   "id": "d214996b-3acd-4e6d-80fd-c1418dcae7b2",
   "metadata": {},
   "outputs": [
    {
     "name": "stdout",
     "output_type": "stream",
     "text": [
      "{'Netherlands', 'Nigeria', 'China', 'Russia', 'Brazil', 'Mexico', 'Qatar', 'England'}\n"
     ]
    }
   ],
   "source": [
    "Countries.update(['Netherlands', 'Brazil', 'Mexico'])\n",
    "print(Countries)\n"
   ]
  },
  {
   "cell_type": "code",
   "execution_count": 42,
   "id": "68f4e496-8d07-4f54-a0f7-b94d81110eef",
   "metadata": {},
   "outputs": [
    {
     "name": "stdout",
     "output_type": "stream",
     "text": [
      "{'Netherlands', 'Nigeria', 'China', 'Russia', 'Brazil', 'Mexico', 'England'}\n"
     ]
    }
   ],
   "source": [
    "# To remove\n",
    "Countries.remove('Qatar')\n",
    "print(Countries)"
   ]
  },
  {
   "cell_type": "code",
   "execution_count": 43,
   "id": "18ab2229-a31f-440b-8b15-de6df9be51a6",
   "metadata": {},
   "outputs": [],
   "source": [
    "Countries.discard('Qatar')\n"
   ]
  },
  {
   "cell_type": "code",
   "execution_count": 44,
   "id": "d1e27b3d-440a-4b1d-a7b7-f718e656ed3b",
   "metadata": {},
   "outputs": [
    {
     "ename": "KeyError",
     "evalue": "'Qatar'",
     "output_type": "error",
     "traceback": [
      "\u001b[1;31m---------------------------------------------------------------------------\u001b[0m",
      "\u001b[1;31mKeyError\u001b[0m                                  Traceback (most recent call last)",
      "Cell \u001b[1;32mIn[44], line 1\u001b[0m\n\u001b[1;32m----> 1\u001b[0m Countries\u001b[38;5;241m.\u001b[39mremove(\u001b[38;5;124m'\u001b[39m\u001b[38;5;124mQatar\u001b[39m\u001b[38;5;124m'\u001b[39m)\n",
      "\u001b[1;31mKeyError\u001b[0m: 'Qatar'"
     ]
    }
   ],
   "source": [
    "Countries.remove('Qatar')"
   ]
  },
  {
   "cell_type": "markdown",
   "id": "4c90ce4d-9b52-4901-b3e1-65d2c8c6a71e",
   "metadata": {},
   "source": [
    "Cell 44 shows the difference between remove and discard\n"
   ]
  },
  {
   "cell_type": "code",
   "execution_count": 45,
   "id": "0db904dd-7358-46bc-a34c-9dec03fdddce",
   "metadata": {},
   "outputs": [
    {
     "name": "stdout",
     "output_type": "stream",
     "text": [
      "set()\n"
     ]
    }
   ],
   "source": [
    "Countries.clear()\n",
    "print(Countries)"
   ]
  },
  {
   "cell_type": "code",
   "execution_count": 49,
   "id": "246f20be-10b0-4755-a368-b2b1064abecc",
   "metadata": {},
   "outputs": [
    {
     "name": "stdout",
     "output_type": "stream",
     "text": [
      "{'Name': 'Andrew', 'Age': 24, 'Sex': 'Male', 'Nationality': 'Nigerian'}\n",
      "<class 'dict'>\n"
     ]
    }
   ],
   "source": [
    "# Dictionary- It can be manipulated. It s a key and value pair.\n",
    "Student_details = {'Name': 'Andrew', 'Age': 24, 'Sex': 'Male', 'Nationality': 'Nigerian'}\n",
    "print(Student_details)\n",
    "print(type(Student_details))"
   ]
  },
  {
   "cell_type": "code",
   "execution_count": 50,
   "id": "77ee3b2b-a7e4-48cb-bd99-6c797f675ce9",
   "metadata": {},
   "outputs": [
    {
     "name": "stdout",
     "output_type": "stream",
     "text": [
      "24\n"
     ]
    }
   ],
   "source": [
    "H = Student_details['Age']\n",
    "print(H)\n"
   ]
  },
  {
   "cell_type": "code",
   "execution_count": 51,
   "id": "e707455b-f0f0-497e-beb3-91779b4474cf",
   "metadata": {},
   "outputs": [
    {
     "name": "stdout",
     "output_type": "stream",
     "text": [
      "{'Name': 'Andrew', 'Age': 24, 'Sex': 'Male', 'Nationality': 'Nigerian', 'Height': 5.6}\n"
     ]
    }
   ],
   "source": [
    "Student_details['Height'] = 5.6\n",
    "print(Student_details)"
   ]
  },
  {
   "cell_type": "code",
   "execution_count": 52,
   "id": "f56ac684-426c-407c-aa83-3e5e0b2732f2",
   "metadata": {},
   "outputs": [
    {
     "name": "stdout",
     "output_type": "stream",
     "text": [
      "5.6\n"
     ]
    }
   ],
   "source": [
    "print(Student_details.pop('Height'))"
   ]
  },
  {
   "cell_type": "markdown",
   "id": "06bc70a1-f3b2-40b3-b455-bab0c5feac39",
   "metadata": {},
   "source": [
    " SIMPLE CALCULATIONS WITH PYTHON\n",
    "\n"
   ]
  },
  {
   "cell_type": "code",
   "execution_count": 58,
   "id": "93be73a6-d4e7-41f3-8523-8d90a23d29d1",
   "metadata": {},
   "outputs": [
    {
     "name": "stdout",
     "output_type": "stream",
     "text": [
      " The amount of 50000 in Dollars is 31.25\n"
     ]
    }
   ],
   "source": [
    " # Write a Python Program that convert Naira to Dollar.Keeping Dollar at 1600\n",
    "Naira = 50000\n",
    "Dollar = 1600\n",
    "Conversion = Naira/Dollar\n",
    "print(f' The amount of {Naira} in Dollars is {Conversion}')\n"
   ]
  },
  {
   "cell_type": "code",
   "execution_count": 57,
   "id": "eb626ff9-2837-4eaf-a457-1ea5c0b56976",
   "metadata": {},
   "outputs": [
    {
     "name": "stdout",
     "output_type": "stream",
     "text": [
      " The person is paying a tithe of 10000.0 from his/her salary\n"
     ]
    }
   ],
   "source": [
    "# Write a python code that calculates tithe from the salary and print how much the person is paying. Keeping tithe at 10%\n",
    "Salary = 100000\n",
    "Tithe = Salary*0.1\n",
    "print(f' The person is paying a tithe of {Tithe} from his/her salary')"
   ]
  },
  {
   "cell_type": "code",
   "execution_count": 62,
   "id": "222771d9-6470-42ca-b20a-925e55e175dc",
   "metadata": {},
   "outputs": [
    {
     "name": "stdin",
     "output_type": "stream",
     "text": [
      "Enter your salary here:  100000\n"
     ]
    },
    {
     "name": "stdout",
     "output_type": "stream",
     "text": [
      "Mr John earns #100000, pays #10000.0 as tithe and takes home 90000.0\n"
     ]
    }
   ],
   "source": [
    "# Dynamic Calculations\n",
    "# Write a python code that calculates tithe from the salary and print how much the person is paying. Keeping tithe at 10%\n",
    "Salary = int(input('Enter your salary here: '))\n",
    "Tithe = Salary * 0.1\n",
    "Takehome = Salary - Tithe\n",
    "print(f'Mr John earns #{Salary}, pays #{Tithe} as tithe and takes home {Takehome}')"
   ]
  },
  {
   "cell_type": "code",
   "execution_count": 63,
   "id": "626f3c46-c0ab-478b-97d2-cfd08df3c6df",
   "metadata": {},
   "outputs": [
    {
     "name": "stdin",
     "output_type": "stream",
     "text": [
      "Enter amount in Naira here:  50000\n"
     ]
    },
    {
     "name": "stdout",
     "output_type": "stream",
     "text": [
      " #50000.0 equates to $31.25\n"
     ]
    }
   ],
   "source": [
    " # Write a Python Program that convert Naira to Dollar.Keeping Dollar at 1600, make it dynamic\n",
    "Naira = float(input('Enter amount in Naira here: '))\n",
    "Dollar = 1600\n",
    "Conversion = Naira/Dollar\n",
    "print(f' #{Naira} equates to ${Conversion}')"
   ]
  },
  {
   "cell_type": "code",
   "execution_count": 66,
   "id": "8604a13e-673d-4864-ad95-3474b2b29e1f",
   "metadata": {},
   "outputs": [
    {
     "name": "stdin",
     "output_type": "stream",
     "text": [
      "What is your age ?:  50\n"
     ]
    },
    {
     "name": "stdout",
     "output_type": "stream",
     "text": [
      " Dear user, you will be 55yrs old in five years time.\n"
     ]
    }
   ],
   "source": [
    "# Write a program that asks for age of a user and tells them  their age in 5 years\n",
    "Age = int(input('What is your age ?: '))\n",
    "Age_in_five_years = Age + 5\n",
    "print(f' Dear user, you will be {Age_in_five_years}yrs old in five years time.')"
   ]
  },
  {
   "cell_type": "code",
   "execution_count": 1,
   "id": "6e453fcf-dd22-43e6-b6fb-db82d81d4a5b",
   "metadata": {},
   "outputs": [
    {
     "name": "stdin",
     "output_type": "stream",
     "text": [
      "Kilometer covered:  50\n"
     ]
    },
    {
     "name": "stdout",
     "output_type": "stream",
     "text": [
      "The amount to be paid is #2500\n"
     ]
    }
   ],
   "source": [
    "# Write a program that takes in the distance in kilometer and returns  the amount to be paid, given that the fare per kilometer is #50\n",
    "Distance = int(input( 'Kilometer covered: '))\n",
    "Amount_Paid = Distance * 50\n",
    "print(f'The amount to be paid is #{Amount_Paid}')"
   ]
  },
  {
   "cell_type": "code",
   "execution_count": 2,
   "id": "c37dae0f-7d0f-4226-90fd-61a4f8ed05fc",
   "metadata": {},
   "outputs": [
    {
     "name": "stdin",
     "output_type": "stream",
     "text": [
      "Amount recieved: 50000\n",
      "At what interest rate is the loan given:  5\n",
      "Time of repayment:  3\n"
     ]
    },
    {
     "name": "stdout",
     "output_type": "stream",
     "text": [
      " The simple interest on the loan taken is 7500.0\n"
     ]
    }
   ],
   "source": [
    "# Write a program that calculate simple interest on a loan taken.\n",
    "Principal = int(input('Amount recieved:'))\n",
    "Rate = float(input('At what interest rate is the loan given: '))\n",
    "Time = float(input('Time of repayment: '))\n",
    "Interest = (Principal*Rate*Time)/100\n",
    "print(f' The simple interest on the loan taken is {Interest}')"
   ]
  },
  {
   "cell_type": "code",
   "execution_count": 3,
   "id": "f731ef66-802b-4fd2-bca3-ff108d1c061e",
   "metadata": {},
   "outputs": [
    {
     "name": "stdout",
     "output_type": "stream",
     "text": [
      "X is greater than Y\n"
     ]
    }
   ],
   "source": [
    "# IF, ELSE, AND ELIF\n",
    "X = 6\n",
    "Y = 4\n",
    "if X>Y:\n",
    "    print('X is greater than Y')"
   ]
  },
  {
   "cell_type": "code",
   "execution_count": 4,
   "id": "0d46e9aa-8b3f-4981-a214-0a65aa4b8ee1",
   "metadata": {},
   "outputs": [
    {
     "name": "stdout",
     "output_type": "stream",
     "text": [
      "X is greater than Y\n"
     ]
    }
   ],
   "source": [
    "X = 6\n",
    "Y = 4\n",
    "if Y>X:\n",
    "    print('Y is greater than X')\n",
    "else:\n",
    "    print('X is greater than Y')"
   ]
  },
  {
   "cell_type": "code",
   "execution_count": 6,
   "id": "cdb008a4-9773-4b2a-8a67-7d6410b76f4c",
   "metadata": {},
   "outputs": [
    {
     "name": "stdin",
     "output_type": "stream",
     "text": [
      "Enter your age here:  18\n"
     ]
    },
    {
     "name": "stdout",
     "output_type": "stream",
     "text": [
      "You are eligible to vote\n"
     ]
    }
   ],
   "source": [
    "# Write a program that checks the age of Nigerian and tells us if they are eligible to vote or not.\n",
    "N_age= int(input('Enter your age here: '))\n",
    "if N_age >= 18:\n",
    "    print('You are eligible to vote')\n",
    "else:\n",
    "    print('Go back and eat Eba')\n",
    "        \n",
    "              "
   ]
  },
  {
   "cell_type": "code",
   "execution_count": 14,
   "id": "aa0a1ad3-2001-4bc6-a77d-5c89ebcf3d95",
   "metadata": {},
   "outputs": [
    {
     "name": "stdin",
     "output_type": "stream",
     "text": [
      "Enter value here:  1\n",
      "Enter value here:  1\n"
     ]
    },
    {
     "name": "stdout",
     "output_type": "stream",
     "text": [
      "1\n"
     ]
    }
   ],
   "source": [
    "# Write a program that take two inputs and prints the greater number...make it dynamic\n",
    "X = int(input('Enter value here: '))\n",
    "Y = int(input('Enter value here: '))\n",
    "if X>Y:\n",
    "    print(X)\n",
    "else:\n",
    "    print(Y)"
   ]
  },
  {
   "cell_type": "code",
   "execution_count": 9,
   "id": "0fd5476f-07e4-4cf2-b953-e98cb8b4bed5",
   "metadata": {},
   "outputs": [
    {
     "name": "stdin",
     "output_type": "stream",
     "text": [
      "Enter value here:  -5\n"
     ]
    },
    {
     "name": "stdout",
     "output_type": "stream",
     "text": [
      "Negative\n"
     ]
    }
   ],
   "source": [
    "# Write a python program that checks if a number is a positive or negative\n",
    "# Print 'Positive' if it is positive, and \"Negative\" if it is negative\n",
    "X = float(input('Enter value here: '))\n",
    "if X>0:\n",
    "    print('Positive')\n",
    "else:\n",
    "    print('Negative')\n",
    "     \n"
   ]
  },
  {
   "cell_type": "code",
   "execution_count": 11,
   "id": "b7a18034-abb6-4f82-9d3d-b811ee40af1b",
   "metadata": {},
   "outputs": [
    {
     "name": "stdin",
     "output_type": "stream",
     "text": [
      "Enter value here:  21\n"
     ]
    },
    {
     "name": "stdout",
     "output_type": "stream",
     "text": [
      "Odd\n"
     ]
    }
   ],
   "source": [
    "# Write a python program that checks if a number is even or odd. \n",
    "# Print \"Even\" if it is even, and \"Odd\" if it is odd\n",
    "X = int(input('Enter value here: '))\n",
    "if X%2==0:\n",
    "    print('Even')\n",
    "else:\n",
    "    print('Odd')"
   ]
  },
  {
   "cell_type": "code",
   "execution_count": 16,
   "id": "1b32191c-48ea-479e-aafb-47786096314a",
   "metadata": {},
   "outputs": [
    {
     "name": "stdin",
     "output_type": "stream",
     "text": [
      "Enter value here:  1\n",
      "Enter value here:  1\n"
     ]
    },
    {
     "name": "stdout",
     "output_type": "stream",
     "text": [
      "Equal\n"
     ]
    }
   ],
   "source": [
    "# Write a program that take two inputs and prints the greater number and if equal, print \"Equal\"...make it dynamic\n",
    "X = int(input('Enter value here: '))\n",
    "Y = int(input('Enter value here: '))\n",
    "if X>Y:\n",
    "    print(X)\n",
    "elif X==Y:\n",
    "    print('Equal')\n",
    "else:\n",
    "    print(Y)"
   ]
  },
  {
   "cell_type": "markdown",
   "id": "06e77b34-d6f8-4532-9267-fd9d32ca009e",
   "metadata": {},
   "source": [
    "Elif is always between if and else. if comes first for any conditional statement and else comes last."
   ]
  },
  {
   "cell_type": "code",
   "execution_count": 17,
   "id": "7cef1aff-c43b-466e-8395-0ed07b5d8f28",
   "metadata": {},
   "outputs": [
    {
     "name": "stdin",
     "output_type": "stream",
     "text": [
      "Enter value here:  0\n"
     ]
    },
    {
     "name": "stdout",
     "output_type": "stream",
     "text": [
      "Zero\n"
     ]
    }
   ],
   "source": [
    "# Write a python program that checks if a number is a positive or negative\n",
    "# Print 'Positive' if it is positive, and \"Negative\" if it is negative and \"Zero\" if it is zero\n",
    "X = float(input('Enter value here: '))\n",
    "if X>0:\n",
    "    print('Positive')\n",
    "elif X==0:\n",
    "    print('Zero')\n",
    "else:\n",
    "    print('Negative')"
   ]
  },
  {
   "cell_type": "code",
   "execution_count": 20,
   "id": "41082fca-dced-40e8-8102-92af3439a55a",
   "metadata": {},
   "outputs": [
    {
     "name": "stdin",
     "output_type": "stream",
     "text": [
      "Enter value here:  23\n",
      "Enter value here:  34\n",
      "Put operator here:  **\n"
     ]
    },
    {
     "name": "stdout",
     "output_type": "stream",
     "text": [
      "Invalid operator\n"
     ]
    }
   ],
   "source": [
    "# Write a python code that takes two numbers and a mathematical operator\n",
    "# (+,-,*,/). Use if and else to perform the corresponding operation and print the result\n",
    "# if an invalid operator is entered, print \"Invalid operator\"\n",
    "X = float(input('Enter value here: '))\n",
    "Y = float (input('Enter value here: '))\n",
    "Z = input('Put operator here: ')\n",
    "if Z== '+':\n",
    "    print(X+Y)\n",
    "elif Z== '-':\n",
    "    print(X-Y)\n",
    "elif Z== '*':\n",
    "    print(X*Y)\n",
    "elif Z== '/':\n",
    "    print(X/Y)\n",
    "else :\n",
    "    print('Invalid operator')"
   ]
  },
  {
   "cell_type": "code",
   "execution_count": 36,
   "id": "140b768a-81d3-43f5-b6d1-b7d02e6f7c68",
   "metadata": {},
   "outputs": [
    {
     "name": "stdin",
     "output_type": "stream",
     "text": [
      "Enter student score here:  70\n"
     ]
    },
    {
     "name": "stdout",
     "output_type": "stream",
     "text": [
      "C\n"
     ]
    }
   ],
   "source": [
    "# Write a python program that takes a student's score as input. If the score is 90 or above, print \"A\" if it is between 80 and 89, print \"B\".\n",
    "# If it is between 70 and 79 , print \"C\". If it is between 60 and 69, print \"D\". Otherwise, print \"F\"\n",
    "\n",
    "X = float(input('Enter student score here: '))\n",
    "if X>=90:\n",
    "    print('A')\n",
    "elif X>=80:\n",
    "    print('B')\n",
    "elif X>=70:\n",
    "    print('C')\n",
    "elif X>=60:\n",
    "    print('D')\n",
    "else:\n",
    "    print('F')"
   ]
  },
  {
   "cell_type": "code",
   "execution_count": null,
   "id": "1d13fa29-b7d2-4137-a4bc-c49a36faa2ae",
   "metadata": {},
   "outputs": [],
   "source": [
    "# University of Ibadan requires student to score 50 and above to be considered for admission in both English and Mathematics.\n",
    "# OAU requires student to score at least 50 in either English and Mathematics. Write a condition to check if a student is admissible in UI \n",
    "# or OAU or not admissible\n",
    "Eng= float(input('Enter score here: '))\n",
    "Math= float(input('Enter score here: '))\n",
    "if Math>=50 and Eng>=50:\n",
    "    print('The student is admissible in UI and OAU')\n",
    "elif Math>=50 or Eng>=50:\n",
    "     print('The student is admissible in OAU only')\n",
    "else:\n",
    "   print('Not admissible')"
   ]
  },
  {
   "cell_type": "markdown",
   "id": "55559339-2733-489f-bb61-c3b57e47b982",
   "metadata": {},
   "source": [
    "# FOR LOOP\n"
   ]
  },
  {
   "cell_type": "code",
   "execution_count": 3,
   "id": "1c951356-e874-4109-9b3f-b1befd0ac4df",
   "metadata": {},
   "outputs": [
    {
     "name": "stdout",
     "output_type": "stream",
     "text": [
      "Apple is a fruit.\n",
      "Orange is a fruit.\n",
      "Banana is a fruit.\n"
     ]
    }
   ],
   "source": [
    "# A loop is a control flow statement\n",
    "Fruits = ['Apple', 'Orange','Banana']\n",
    "print(f'{Fruits[0]} is a fruit.')\n",
    "print(f'{Fruits[1]} is a fruit.')\n",
    "print(f'{Fruits[2]} is a fruit.')"
   ]
  },
  {
   "cell_type": "code",
   "execution_count": 4,
   "id": "782794e2-9b3d-401f-aaad-9ed4459a2b89",
   "metadata": {},
   "outputs": [
    {
     "name": "stdout",
     "output_type": "stream",
     "text": [
      "Apple is a fruit.\n",
      "Orange is a fruit.\n",
      "Banana is a fruit.\n"
     ]
    }
   ],
   "source": [
    "Fruits = ['Apple', 'Orange','Banana']\n",
    "for i in Fruits:\n",
    "    print(f'{i} is a fruit.')"
   ]
  },
  {
   "cell_type": "code",
   "execution_count": 1,
   "id": "da45d96a-0696-41d4-978d-315568fb19e7",
   "metadata": {},
   "outputs": [
    {
     "name": "stdout",
     "output_type": "stream",
     "text": [
      "3\n",
      "6\n",
      "9\n",
      "12\n",
      "15\n",
      "18\n",
      "21\n",
      "24\n",
      "27\n"
     ]
    }
   ],
   "source": [
    "Numbers = [1,2,3,4,5,6,7,8,9]\n",
    "for x in Numbers:\n",
    "    print(3*x)"
   ]
  },
  {
   "cell_type": "code",
   "execution_count": 2,
   "id": "bb6fd038-1c66-4ea2-b81d-7a665a8db757",
   "metadata": {},
   "outputs": [
    {
     "name": "stdout",
     "output_type": "stream",
     "text": [
      "15\n"
     ]
    }
   ],
   "source": [
    "Numbers = [1,2,3,4,5,6,7,8,9]\n",
    "for y in Numbers:\n",
    "    if y==5:\n",
    "        print(y*3)"
   ]
  },
  {
   "cell_type": "markdown",
   "id": "26b2648a-75fa-425e-bca4-7eb2957794e5",
   "metadata": {},
   "source": [
    "# Types of Statement - Break and Continuous Statement\n"
   ]
  },
  {
   "cell_type": "code",
   "execution_count": 3,
   "id": "3573c73f-3699-482b-9b60-da2adbdd611c",
   "metadata": {},
   "outputs": [
    {
     "name": "stdout",
     "output_type": "stream",
     "text": [
      "2\n",
      "4\n",
      "6\n",
      "8\n"
     ]
    }
   ],
   "source": [
    "# Write a for loop that prints out even numbers only from the list\n",
    "Numbers = [1,2,3,4,5,6,7,8,9]\n",
    "for z in Numbers:\n",
    "    if z%2==0:\n",
    "        print(z)"
   ]
  },
  {
   "cell_type": "code",
   "execution_count": 4,
   "id": "ff077f27-5592-4bf3-8fc5-cb48192a255c",
   "metadata": {},
   "outputs": [
    {
     "name": "stdout",
     "output_type": "stream",
     "text": [
      "1\n",
      "2\n",
      "3\n",
      "4\n"
     ]
    }
   ],
   "source": [
    "# Introducing Break\n",
    "Numbers = [1,2,3,4,5,6,7,8,9] # the code to stop at number 4\n",
    "for x in Numbers:\n",
    "    print(x)\n",
    "    if x==4:\n",
    "        break"
   ]
  },
  {
   "cell_type": "code",
   "execution_count": 12,
   "id": "e750d32e-dad6-4ae6-9eb8-b3a86bd56169",
   "metadata": {},
   "outputs": [
    {
     "name": "stdout",
     "output_type": "stream",
     "text": [
      "Apple\n",
      "Banana\n"
     ]
    }
   ],
   "source": [
    "# Introducing continuous\n",
    "Fruits = ['Apple', 'Orange','Banana']\n",
    "for z in Fruits:\n",
    "    if z =='Orange':\n",
    "        continue\n",
    "    print(z)"
   ]
  },
  {
   "cell_type": "code",
   "execution_count": 22,
   "id": "0e846d6f-2e2a-4cf9-a75f-1ce9a9cfcaa1",
   "metadata": {},
   "outputs": [
    {
     "name": "stdout",
     "output_type": "stream",
     "text": [
      "Number: 1\n",
      "Number: 3\n",
      "Number: 5\n",
      "Break at Number 7\n"
     ]
    }
   ],
   "source": [
    "# Using Break and Continue(Continue helps to ignore)\n",
    "# Write a code that stops iterating at number 7 and only print out the odd numbers in the list\n",
    "Z =  [1,2,3,4,5,6,7,8,9,10]\n",
    "for y in Z:\n",
    "    if y==7:\n",
    "        print(f'Break at Number {y}')\n",
    "        break\n",
    "        \n",
    "    if y%2==0:\n",
    "        #print(f'Continue: Skipping number{y}')\n",
    "        continue\n",
    "    \n",
    "    print(f'Number: {y}')\n",
    "    \n",
    "    \n",
    "    "
   ]
  },
  {
   "cell_type": "code",
   "execution_count": 31,
   "id": "379f990f-f893-4e2e-bfb9-61adc00628a6",
   "metadata": {},
   "outputs": [
    {
     "name": "stdout",
     "output_type": "stream",
     "text": [
      "Fruits: apple\n",
      "Fruits: banana\n",
      "Fruits: date\n",
      "Break: stopping the loop at elderberry\n"
     ]
    }
   ],
   "source": [
    "# In the list below, write a loop that prints fruits that have letter 'a' and stop at a fruit called Elderberry\n",
    "Fruits = ['apple', 'banana', 'cherry', 'date', 'elderberry', 'fig', 'grape']\n",
    "for j in Fruits:\n",
    "    if j == 'elderberry':\n",
    "        print(f'Break: stopping the loop at {j}')\n",
    "        break\n",
    "        \n",
    "    if 'a' not in j:\n",
    "        continue\n",
    "    print(f'Fruits: {j}')\n",
    "        \n",
    "        \n",
    "    \n"
   ]
  },
  {
   "cell_type": "markdown",
   "id": "2d660013-398e-4880-9423-9e35f9b8bf73",
   "metadata": {},
   "source": [
    "# Introducing Pass"
   ]
  },
  {
   "cell_type": "code",
   "execution_count": 32,
   "id": "c5811334-55cf-43a8-92dd-763b83845abd",
   "metadata": {},
   "outputs": [
    {
     "name": "stdout",
     "output_type": "stream",
     "text": [
      "Odd number:1\n",
      "Odd number:3\n",
      "Odd number:5\n",
      "Odd number:7\n"
     ]
    }
   ],
   "source": [
    "Numbers = [1,2,3,4,5,6,7]\n",
    "for k in Numbers:\n",
    "    if k%2==0:\n",
    "        pass\n",
    "    else:\n",
    "        print(f'Odd number:{k}')"
   ]
  },
  {
   "cell_type": "code",
   "execution_count": 35,
   "id": "2f355b9f-e0b2-4233-8f52-7781299a0479",
   "metadata": {},
   "outputs": [
    {
     "name": "stdin",
     "output_type": "stream",
     "text": [
      "How many numbers do you want to input? 4\n",
      "Enter number 1: 1\n",
      "Enter number 2: 2\n",
      "Enter number 3: 2\n",
      "Enter number 4: 3\n"
     ]
    },
    {
     "name": "stdout",
     "output_type": "stream",
     "text": [
      "The numbers you entered are : [1, 2, 2, 3]\n"
     ]
    }
   ],
   "source": [
    "# Write a loop that's dynamic, accepts input and generate list of numbers\n",
    "Num_entry = int(input('How many numbers do you want to input?'))\n",
    "\n",
    "Number_list = []\n",
    "\n",
    "for x in range(Num_entry):\n",
    "    Number= int(input(f'Enter number {x+1}:'))\n",
    "    Number_list.append(Number)\n",
    "print(f'The numbers you entered are : {Number_list}')"
   ]
  },
  {
   "cell_type": "markdown",
   "id": "55981d75-8b3e-4d0b-b644-90acaf7cc434",
   "metadata": {},
   "source": [
    "# Range"
   ]
  },
  {
   "cell_type": "code",
   "execution_count": 36,
   "id": "e719dad6-2b51-4a46-acc0-8db05051d35d",
   "metadata": {},
   "outputs": [
    {
     "name": "stdout",
     "output_type": "stream",
     "text": [
      "0\n",
      "1\n",
      "2\n",
      "3\n",
      "4\n",
      "5\n",
      "6\n",
      "7\n",
      "8\n",
      "9\n",
      "10\n",
      "11\n",
      "12\n",
      "13\n",
      "14\n",
      "15\n",
      "16\n",
      "17\n",
      "18\n",
      "19\n",
      "20\n"
     ]
    }
   ],
   "source": [
    "for i in range(21):\n",
    "    print(i)"
   ]
  },
  {
   "cell_type": "code",
   "execution_count": 37,
   "id": "2126b00e-34c8-4fc0-a7a0-2507e3766966",
   "metadata": {},
   "outputs": [
    {
     "name": "stdout",
     "output_type": "stream",
     "text": [
      "10\n",
      "11\n",
      "12\n",
      "13\n",
      "14\n",
      "15\n",
      "16\n",
      "17\n",
      "18\n",
      "19\n",
      "20\n"
     ]
    }
   ],
   "source": [
    "# Use range to generate numbers from 10 t0 20\n",
    "for x in range(10,21):\n",
    "    print(x)"
   ]
  },
  {
   "cell_type": "code",
   "execution_count": 41,
   "id": "919b0192-78b0-4151-ab42-e608659942c3",
   "metadata": {},
   "outputs": [
    {
     "name": "stdout",
     "output_type": "stream",
     "text": [
      "1\n",
      "3\n",
      "5\n",
      "7\n",
      "9\n",
      "11\n",
      "13\n",
      "15\n",
      "17\n",
      "19\n"
     ]
    }
   ],
   "source": [
    "# using range, print the odd numbers between 1 to 20\n",
    "for j in range(1,21,2):\n",
    "        print(j)\n",
    "\n",
    "# range(beg,end,step)"
   ]
  },
  {
   "cell_type": "code",
   "execution_count": 44,
   "id": "05c51842-1540-4b3a-a4e9-92c159c09e1e",
   "metadata": {},
   "outputs": [
    {
     "name": "stdout",
     "output_type": "stream",
     "text": [
      "[1, 2, 3, 4, 5, 6, 7, 8, 9]\n"
     ]
    }
   ],
   "source": [
    "Num = list(range(1,10))\n",
    "print(Num)"
   ]
  },
  {
   "cell_type": "markdown",
   "id": "c1f8ac67-17cd-451e-a094-4f93de00ba7a",
   "metadata": {},
   "source": [
    "# While Loop"
   ]
  },
  {
   "cell_type": "code",
   "execution_count": 46,
   "id": "9122bb2c-dc0a-4d14-9657-6033f8232895",
   "metadata": {},
   "outputs": [
    {
     "name": "stdout",
     "output_type": "stream",
     "text": [
      "0\n",
      "1\n",
      "2\n",
      "3\n",
      "4\n"
     ]
    }
   ],
   "source": [
    "X = 0\n",
    "while X < 5:\n",
    "    print(X)\n",
    "    X +=1"
   ]
  },
  {
   "cell_type": "code",
   "execution_count": 47,
   "id": "80743021-a2c6-4d0a-8f57-782013b9a19c",
   "metadata": {},
   "outputs": [
    {
     "name": "stdout",
     "output_type": "stream",
     "text": [
      "5\n",
      "10\n",
      "15\n",
      "20\n",
      "25\n",
      "30\n",
      "35\n",
      "40\n",
      "45\n",
      "50\n"
     ]
    }
   ],
   "source": [
    "i= 5\n",
    "while i<=50:\n",
    "    print(i)\n",
    "    i+=5"
   ]
  },
  {
   "cell_type": "code",
   "execution_count": 1,
   "id": "cb3d3623-f3d3-4311-a05a-74fda17d5751",
   "metadata": {},
   "outputs": [
    {
     "name": "stdout",
     "output_type": "stream",
     "text": [
      "1\n",
      "2\n",
      "3\n",
      "4\n",
      "5\n",
      "7\n",
      "8\n",
      "9\n",
      "10\n",
      "11\n"
     ]
    }
   ],
   "source": [
    "# While loop with continue\n",
    "i= 0\n",
    "while i<=10:\n",
    "    i+=1\n",
    "    if i==6:\n",
    "        continue\n",
    "    print(i)"
   ]
  },
  {
   "cell_type": "code",
   "execution_count": 7,
   "id": "43616554-4792-42cf-9e5f-34bafa3ef8ff",
   "metadata": {},
   "outputs": [
    {
     "name": "stdout",
     "output_type": "stream",
     "text": [
      "2\n",
      "4\n",
      "6\n",
      "8\n",
      "10\n"
     ]
    }
   ],
   "source": [
    "# While loop with break\n",
    "x=2\n",
    "while x<=10:\n",
    "    print(x)\n",
    "    if x==7:\n",
    "        break\n",
    "    x+=2\n",
    "    "
   ]
  },
  {
   "cell_type": "markdown",
   "id": "6611a119-0c34-40ee-aa4e-c1d4675979cb",
   "metadata": {},
   "source": [
    "# Using while loop for a guessing game\n",
    "trials = 0\n",
    "max_trials = 3\n",
    "\n",
    "while True:\n",
    "    trials +=1\n",
    "    name = input('Enter username: ')\n",
    "    if name == 'Joe':\n",
    "        print(f'Welcome {name}, Enter your password')\n",
    "        password = input()\n",
    "        if password =='abcd':\n",
    "            print('Access granted')\n",
    "        else:\n",
    "     \n",
    "            print('Incorrect Password')\n",
    "     \n",
    "    elif max_trials == trials:\n",
    "        print('No more trials')\n",
    "        break\n",
    "   \n",
    "    else:\n",
    "        print('Wrong username')\n",
    "\n",
    "\n",
    "    There is a bug in this code\n"
   ]
  },
  {
   "cell_type": "code",
   "execution_count": 8,
   "id": "c0bafb83-3fec-4b53-940c-76bc0135ef04",
   "metadata": {},
   "outputs": [
    {
     "name": "stdin",
     "output_type": "stream",
     "text": [
      "Enter username:  Joe\n"
     ]
    },
    {
     "name": "stdout",
     "output_type": "stream",
     "text": [
      "Welcome Joe, Enter your password\n"
     ]
    },
    {
     "name": "stdin",
     "output_type": "stream",
     "text": [
      " rhhj\n"
     ]
    },
    {
     "name": "stdout",
     "output_type": "stream",
     "text": [
      "Incorrect Password\n"
     ]
    },
    {
     "name": "stdin",
     "output_type": "stream",
     "text": [
      "Enter username:  Joe\n"
     ]
    },
    {
     "name": "stdout",
     "output_type": "stream",
     "text": [
      "Welcome Joe, Enter your password\n"
     ]
    },
    {
     "name": "stdin",
     "output_type": "stream",
     "text": [
      " ghy\n"
     ]
    },
    {
     "name": "stdout",
     "output_type": "stream",
     "text": [
      "Incorrect Password\n"
     ]
    },
    {
     "name": "stdin",
     "output_type": "stream",
     "text": [
      "Enter username:  Joe\n"
     ]
    },
    {
     "name": "stdout",
     "output_type": "stream",
     "text": [
      "Welcome Joe, Enter your password\n"
     ]
    },
    {
     "name": "stdin",
     "output_type": "stream",
     "text": [
      " hyh\n"
     ]
    },
    {
     "name": "stdout",
     "output_type": "stream",
     "text": [
      "Incorrect Password\n",
      "No more trials\n"
     ]
    }
   ],
   "source": [
    "# Using while loop for a guessing game\n",
    "trials = 0\n",
    "max_trials = 3\n",
    "\n",
    "while True:\n",
    "    trials +=1\n",
    "    name = input('Enter username: ')\n",
    "    if name == 'Joe':\n",
    "        print(f'Welcome {name}, Enter your password')\n",
    "        password = input()\n",
    "        if password =='abcd':\n",
    "            print('Access granted')\n",
    "        else:\n",
    "            print('Incorrect Password')\n",
    "     \n",
    "   \n",
    "    else:\n",
    "        print('Wrong username')\n",
    "    \n",
    "    if max_trials == trials:\n",
    "        print('No more trials')\n",
    "        break"
   ]
  },
  {
   "cell_type": "code",
   "execution_count": 9,
   "id": "89b2708d-cf8f-406d-8326-1cea4ebf27fa",
   "metadata": {},
   "outputs": [
    {
     "name": "stdin",
     "output_type": "stream",
     "text": [
      "Enter a number:  33\n"
     ]
    },
    {
     "name": "stdout",
     "output_type": "stream",
     "text": [
      "This is not an even number\n"
     ]
    },
    {
     "name": "stdin",
     "output_type": "stream",
     "text": [
      "Enter a number:  24\n"
     ]
    },
    {
     "name": "stdout",
     "output_type": "stream",
     "text": [
      "Thank you, the number is 24\n"
     ]
    }
   ],
   "source": [
    "# While loop that keeps asking for even numbers\n",
    "while True:\n",
    "    Num = int(input('Enter a number: '))\n",
    "    if Num%2==0:\n",
    "        print(f'Thank you, the number is {Num}')\n",
    "        break\n",
    "    else:\n",
    "        print('This is not an even number')"
   ]
  },
  {
   "cell_type": "code",
   "execution_count": 10,
   "id": "4b304e96-eeba-48f6-9c2d-3aa5feac882e",
   "metadata": {},
   "outputs": [
    {
     "name": "stdin",
     "output_type": "stream",
     "text": [
      "Enter your password here:  Appclick\n"
     ]
    },
    {
     "name": "stdout",
     "output_type": "stream",
     "text": [
      "Incorrect. Try again next time\n"
     ]
    },
    {
     "name": "stdin",
     "output_type": "stream",
     "text": [
      "Enter your password here:  appclick\n"
     ]
    },
    {
     "name": "stdout",
     "output_type": "stream",
     "text": [
      "You have access now\n"
     ]
    }
   ],
   "source": [
    "# Password prompt\n",
    "correct = 'appclick'\n",
    "while True:\n",
    "    password = input('Enter your password here: ')\n",
    "    if password==correct:\n",
    "        print('You have access now')\n",
    "        break\n",
    "    else:\n",
    "        print('Incorrect. Try again next time')"
   ]
  },
  {
   "cell_type": "markdown",
   "id": "5ac488d7-3c7f-42f8-bfea-12372f7d1b00",
   "metadata": {},
   "source": [
    "# Functions"
   ]
  },
  {
   "cell_type": "code",
   "execution_count": 13,
   "id": "f29c675b-f14d-472b-ade2-98eb02bc0d3d",
   "metadata": {},
   "outputs": [
    {
     "name": "stdout",
     "output_type": "stream",
     "text": [
      "Welcome to Appclick\n"
     ]
    }
   ],
   "source": [
    "def greet():\n",
    "    print('Welcome to Appclick')\n",
    "greet()"
   ]
  },
  {
   "cell_type": "code",
   "execution_count": 20,
   "id": "3afbbccc-de93-44bf-a283-31b9082526b6",
   "metadata": {},
   "outputs": [
    {
     "name": "stdout",
     "output_type": "stream",
     "text": [
      "Good afternoon, welcome to Appclick Blessing.\n"
     ]
    }
   ],
   "source": [
    "def greeters(day_time,name):\n",
    "    print(f'Good {day_time}, welcome to Appclick {name}')\n",
    "\n",
    "greeters('afternoon', 'Blessing.')"
   ]
  },
  {
   "cell_type": "code",
   "execution_count": 30,
   "id": "a85fa85e-6f12-4636-8bd8-d9bcb36f12ea",
   "metadata": {},
   "outputs": [
    {
     "name": "stdout",
     "output_type": "stream",
     "text": [
      "Blessing is not qualified to vote\n"
     ]
    }
   ],
   "source": [
    "# write a function that takes in Nigerian age and full name and tells then if they are qualified to vote\n",
    "def voters(full_name, age):\n",
    "    if age >=18:\n",
    "        print(f'{full_name} is qualified to vote')\n",
    "    elif 0<= age <=17:\n",
    "        print(f'{full_name} is not qualified to vote')\n",
    "    else:\n",
    "        print('Invalid value')\n",
    "    \n",
    "\n",
    "\n",
    "voters('Blessing', 17)"
   ]
  },
  {
   "cell_type": "code",
   "execution_count": 33,
   "id": "48e3bf6d-3466-434a-a66f-ec18f036598a",
   "metadata": {},
   "outputs": [
    {
     "name": "stdin",
     "output_type": "stream",
     "text": [
      "Enter temperature value in degree celsius:  54\n"
     ]
    },
    {
     "name": "stdout",
     "output_type": "stream",
     "text": [
      "54.0 in degree celsius is equal to 129.2 degree fahrenheit\n"
     ]
    }
   ],
   "source": [
    "# Write a function that takes temperature in celsius and converts them into fahrenheit\n",
    "def converter():\n",
    "    temp_f = ((9/5)*temp_c) + 32\n",
    "    print(f'{temp_c} in degree celsius is equal to {temp_f} degree fahrenheit')\n",
    "\n",
    "temp_c = float(input('Enter temperature value in degree celsius: '))\n",
    "\n",
    "converter()\n"
   ]
  },
  {
   "cell_type": "code",
   "execution_count": 36,
   "id": "d28e1609-9087-44be-8213-20ad171cfaba",
   "metadata": {},
   "outputs": [
    {
     "name": "stdin",
     "output_type": "stream",
     "text": [
      "Enter your number here:  23\n",
      "Enter your number here:  56\n",
      "Enter your number here:  13\n"
     ]
    },
    {
     "data": {
      "text/plain": [
       "56"
      ]
     },
     "execution_count": 36,
     "metadata": {},
     "output_type": "execute_result"
    }
   ],
   "source": [
    "# write a function to return maximum of 3 numbers\n",
    "def bignumber():\n",
    "    num1= int(input('Enter your number here: '))\n",
    "    num2= int(input('Enter your number here: '))\n",
    "    num3= int(input('Enter your number here: '))\n",
    "    return max(num1,num2,num3)\n",
    "\n",
    "bignumber()"
   ]
  },
  {
   "cell_type": "code",
   "execution_count": 38,
   "id": "de8fb535-7ec7-4c7c-9a02-a34da125088e",
   "metadata": {},
   "outputs": [
    {
     "name": "stdin",
     "output_type": "stream",
     "text": [
      "Enter your text here:  Blessing\n"
     ]
    },
    {
     "name": "stdout",
     "output_type": "stream",
     "text": [
      "2\n"
     ]
    }
   ],
   "source": [
    "# write a function to count the number of vowels in a word\n",
    "def vowel_count():\n",
    "    word = input('Enter your text here: ').lower()\n",
    "    vowels = 'aeiou'\n",
    "    count = 0\n",
    "    for varchar in word:\n",
    "        if varchar in vowels:\n",
    "            count+=1\n",
    "    return count\n",
    "\n",
    "\n",
    "print(vowel_count())               "
   ]
  },
  {
   "cell_type": "markdown",
   "id": "bc12ea63-6936-467d-b7ac-bbe3fae8038b",
   "metadata": {},
   "source": [
    "# LAMBDA FUNCTION"
   ]
  },
  {
   "cell_type": "code",
   "execution_count": 1,
   "id": "30ebc988-89f1-478a-a2f2-e7ffd19fd341",
   "metadata": {},
   "outputs": [
    {
     "name": "stdout",
     "output_type": "stream",
     "text": [
      "9\n"
     ]
    }
   ],
   "source": [
    "# Write a lambda function of adding two numbers together\n",
    "add = lambda a,b:a+b\n",
    "print(add(3,6))"
   ]
  },
  {
   "cell_type": "markdown",
   "id": "072ae722-d1ba-4050-9aa2-12ed73dc28e0",
   "metadata": {},
   "source": [
    "### LAMBDA WITH HIGH ORDER FUNCTIONS\n",
    "1. MAP\n",
    "2. FILTER\n",
    "3. SORT\n",
    "4. REDUCE"
   ]
  },
  {
   "cell_type": "code",
   "execution_count": 2,
   "id": "744621b4-75bf-4509-ae4e-98645ea6abb6",
   "metadata": {},
   "outputs": [
    {
     "name": "stdout",
     "output_type": "stream",
     "text": [
      "[1, 4, 9, 16, 25, 36]\n"
     ]
    }
   ],
   "source": [
    "# MAP\n",
    "Numbers = [1,2,3,4,5,6]\n",
    "Square = list(map(lambda x:x**2, Numbers))\n",
    "print(Square)"
   ]
  },
  {
   "cell_type": "code",
   "execution_count": 7,
   "id": "a594075e-ed4b-4ae8-9d0a-85f5b596743e",
   "metadata": {},
   "outputs": [
    {
     "name": "stdout",
     "output_type": "stream",
     "text": [
      "[2, 4, 6, 8, 10]\n"
     ]
    }
   ],
   "source": [
    "# FILTER\n",
    "# We are going to filter out the odd numbers here and print out the even numbers\n",
    "Num= [1,2,3,4,5,6,7,8,9,10]\n",
    "Even = list(filter(lambda i:i%2==0, Num))\n",
    "print(Even)\n"
   ]
  },
  {
   "cell_type": "code",
   "execution_count": 9,
   "id": "955ae363-3173-46f7-a97b-8f931a0e33cd",
   "metadata": {},
   "outputs": [
    {
     "name": "stdout",
     "output_type": "stream",
     "text": [
      "[(1, 5), (3, 7), (8, 1)]\n",
      "[(8, 1), (1, 5), (3, 7)]\n"
     ]
    }
   ],
   "source": [
    "# SORT\n",
    "points = [(3,7),(1,5), (8,1)]\n",
    "sort = sorted(points, key=lambda y:y[0])\n",
    "tros = sorted(points, key=lambda x:x[1])\n",
    "print(sort)\n",
    "print(tros)"
   ]
  },
  {
   "cell_type": "code",
   "execution_count": 12,
   "id": "2111d1a5-084b-4d03-a2ff-ea5bb1d36b67",
   "metadata": {},
   "outputs": [
    {
     "name": "stdout",
     "output_type": "stream",
     "text": [
      "24\n"
     ]
    }
   ],
   "source": [
    "# REDUCE -It reduces to a single value\n",
    "from functools import reduce\n",
    "Num=[1,2,3,4]\n",
    "Product =reduce(lambda x,y:x*y,Num)\n",
    "print(Product)"
   ]
  },
  {
   "cell_type": "markdown",
   "id": "168877a3-9dcd-4a16-bde1-fa6502858259",
   "metadata": {},
   "source": [
    "# LIST COMPREHENSION"
   ]
  },
  {
   "cell_type": "code",
   "execution_count": 19,
   "id": "b39af4b7-ff75-4af1-9bb0-aae84bd1d588",
   "metadata": {},
   "outputs": [
    {
     "name": "stdout",
     "output_type": "stream",
     "text": [
      "[1, 4, 9, 16, 25]\n"
     ]
    }
   ],
   "source": [
    "Num= [1,2,3,4,5]\n",
    "Squared = [ x**2 for x in Num]\n",
    "print(Squared)"
   ]
  },
  {
   "cell_type": "code",
   "execution_count": 17,
   "id": "92726935-b4d4-4bf5-a45c-f2035d7aff89",
   "metadata": {},
   "outputs": [
    {
     "name": "stdout",
     "output_type": "stream",
     "text": [
      "[6, 8, 10]\n"
     ]
    }
   ],
   "source": [
    "# print out even and also work on certain set of numbers in the list\n",
    "Numbers=[1,2,3,4,5,6,7,8,9,10]\n",
    "Filtered=[x for x in Numbers if x%2==0 if x>4]\n",
    "print(Filtered)"
   ]
  },
  {
   "cell_type": "code",
   "execution_count": 20,
   "id": "6ded1228-8307-4527-a6f5-11a9f4debf7e",
   "metadata": {},
   "outputs": [
    {
     "name": "stdout",
     "output_type": "stream",
     "text": [
      "[1, 3, 5, 9]\n"
     ]
    }
   ],
   "source": [
    "# print odd numbers from the list and ignore number 7\n",
    "Oddstop = [x for x in range(11) if x!=7 and x%2!=0]\n",
    "print(Oddstop)"
   ]
  },
  {
   "cell_type": "code",
   "execution_count": 25,
   "id": "c0761df5-4bcd-4a76-be3e-de2b0b8510c4",
   "metadata": {},
   "outputs": [
    {
     "name": "stdout",
     "output_type": "stream",
     "text": [
      "[15, 20, 25, 30, 35, 40, 45, 50]\n"
     ]
    }
   ],
   "source": [
    "# Wrie a code that generate numbers from 1 to 50  and print only multiples of 5 in the list and shold start from 15\n",
    "Num = [x for x in range(1,51) if x>=15 and x%5==0]\n",
    "print(Num)"
   ]
  },
  {
   "cell_type": "code",
   "execution_count": 27,
   "id": "be49a2ce-258a-42c3-8561-aea9f6c47a70",
   "metadata": {},
   "outputs": [
    {
     "name": "stdout",
     "output_type": "stream",
     "text": [
      "[(7, 1, 0), (5, 6, 1), (1, 8, 9), (4, 11, 10)]\n"
     ]
    }
   ],
   "source": [
    "# Sort the following groups with the number in their 3rd position\n",
    "Num= [(1,8,9),(4,11,10),(7,1,0),(5,6,1)]\n",
    "Sort= sorted(Num, key= lambda y:y[2])\n",
    "print(Sort)"
   ]
  },
  {
   "cell_type": "markdown",
   "id": "736b7eeb-3329-4ea0-9c82-8b34d5cce24e",
   "metadata": {},
   "source": [
    "# REGEX(REGULAR EXPRESSION)"
   ]
  },
  {
   "cell_type": "code",
   "execution_count": 30,
   "id": "ae96105a-2897-4aec-9015-ddb8887a2eb5",
   "metadata": {},
   "outputs": [
    {
     "name": "stdout",
     "output_type": "stream",
     "text": [
      "cat\n"
     ]
    }
   ],
   "source": [
    "# Compile a regex to match name cat\n",
    "import re\n",
    "animals = ['cat', 'dog', 'catfish', 'horse', 'cattle', 'catbird']\n",
    "pattern = re.compile(r'\\bcat\\b')\n",
    "for x in animals:\n",
    "    if re.search(pattern,x):\n",
    "        print(x)"
   ]
  },
  {
   "cell_type": "code",
   "execution_count": 31,
   "id": "57b60b3a-154c-4841-af13-02df409d2586",
   "metadata": {},
   "outputs": [
    {
     "name": "stdout",
     "output_type": "stream",
     "text": [
      "cat\n",
      "catfish\n",
      "cattle\n",
      "catbird\n"
     ]
    }
   ],
   "source": [
    "# Compile a regex to match names containg cat\n",
    "import re\n",
    "animals = ['cat', 'dog', 'catfish', 'horse', 'cattle', 'catbird']\n",
    "pattern = re.compile(r'cat')\n",
    "for x in animals:\n",
    "    if re.search(pattern,x):\n",
    "        print(x)"
   ]
  },
  {
   "cell_type": "code",
   "execution_count": 33,
   "id": "f27ef6cb-9f3c-4b57-a127-c11db86f47d7",
   "metadata": {},
   "outputs": [
    {
     "name": "stdout",
     "output_type": "stream",
     "text": [
      "['cat', 'catfish', 'cattle', 'catbird']\n"
     ]
    }
   ],
   "source": [
    "# Compile a regex to match names containg cat\n",
    "import re\n",
    "animals = ['cat', 'dog', 'catfish', 'horse', 'cattle', 'catbird']\n",
    "pattern = re.compile(r'cat')\n",
    "catname = [x for x in animals if pattern.search(x)]\n",
    "print(catname)"
   ]
  },
  {
   "cell_type": "markdown",
   "id": "5ea697a7-d376-4a1f-ae04-11d1c5469d01",
   "metadata": {},
   "source": [
    "# OBJECT ORIENTED PROGRAMMING(OOP)"
   ]
  },
  {
   "cell_type": "code",
   "execution_count": 1,
   "id": "18ad923c-319a-4fdb-a0e8-76fc5cc3dfc0",
   "metadata": {},
   "outputs": [
    {
     "name": "stdout",
     "output_type": "stream",
     "text": [
      "7\n"
     ]
    }
   ],
   "source": [
    "class Myclass:\n",
    "    x=7\n",
    "    y=6\n",
    "P=Myclass\n",
    "print(P.x)"
   ]
  },
  {
   "cell_type": "code",
   "execution_count": 2,
   "id": "2c8d92c8-3b9f-44ee-b6cc-ea86bf461a13",
   "metadata": {},
   "outputs": [
    {
     "name": "stdout",
     "output_type": "stream",
     "text": [
      "Sam\n"
     ]
    }
   ],
   "source": [
    "class Person:\n",
    "    def __init__(self, name, gender, age):\n",
    "        self.name=name\n",
    "        self.gender=gender\n",
    "        self.age=age\n",
    "P2= Person('Sam', 'Male', 30)\n",
    "P3= Person('Gloria', 'Female', 23)\n",
    "print(P2.name)"
   ]
  },
  {
   "cell_type": "code",
   "execution_count": 7,
   "id": "cd8b3493-dbcc-4819-a421-6955c5338213",
   "metadata": {},
   "outputs": [
    {
     "name": "stdout",
     "output_type": "stream",
     "text": [
      "Brainfield\n"
     ]
    }
   ],
   "source": [
    "# Create an instance of a school that has school name , principal name, and year of establishment and populate it with 3 entries\n",
    "class Schools:\n",
    "    def __init__(self,school_name,principal_name,year):\n",
    "        self.school_name=school_name\n",
    "        self.principal_name=principal_name\n",
    "        self.year=year\n",
    "S1=Schools('Brainfield', 'Busayo', 2000)\n",
    "S2=Schools('Bims' , 'Tope', 2023)\n",
    "S3=Schools('Goodville', 'Hassan', 2010)\n",
    "print(S1.school_name)"
   ]
  },
  {
   "cell_type": "code",
   "execution_count": 8,
   "id": "ca669e76-a284-4dbc-826d-5235ac1c6e05",
   "metadata": {},
   "outputs": [
    {
     "name": "stdout",
     "output_type": "stream",
     "text": [
      "My name is Sam, I am a Male and I am 30\n"
     ]
    }
   ],
   "source": [
    "class Person:\n",
    "    def __init__(self, name, gender, age):\n",
    "        self.name=name\n",
    "        self.gender=gender\n",
    "        self.age=age\n",
    "    def Fullinfo(self):\n",
    "        print(f\"My name is {self.name}, I am a {self.gender} and I am {self.age}\")\n",
    "P2= Person('Sam', 'Male', 30)\n",
    "P3= Person('Gloria', 'Female', 23)\n",
    "P2.Fullinfo()"
   ]
  },
  {
   "cell_type": "code",
   "execution_count": 13,
   "id": "c2bfb80a-048a-46a6-8bab-8eccfdce737a",
   "metadata": {},
   "outputs": [
    {
     "name": "stdout",
     "output_type": "stream",
     "text": [
      " My name is Busayo and I built Brainfield schools in the year 2000.\n"
     ]
    }
   ],
   "source": [
    "class Schools:\n",
    "    def __init__(self,school_name,principal_name,year):\n",
    "        self.school_name=school_name\n",
    "        self.principal_name=principal_name\n",
    "        self.year=year\n",
    "    def Description(self):\n",
    "        print(f\" My name is {self.principal_name} and I built {self.school_name} schools in the year {self.year}.\")\n",
    "S1=Schools('Brainfield','Busayo',2000)\n",
    "S2=Schools('Bims','Tope',2023)\n",
    "S3=Schools('Goodville','Hassan', 2010)\n",
    "S1.Description()"
   ]
  },
  {
   "cell_type": "code",
   "execution_count": 16,
   "id": "1b517ff5-aa64-4a45-b527-6329e9ed2118",
   "metadata": {},
   "outputs": [
    {
     "name": "stdout",
     "output_type": "stream",
     "text": [
      "The average grade is [23, 92, 45] with 53.333333333333336 and Wura passed\n"
     ]
    }
   ],
   "source": [
    "# Create a class with attributes for the students name and grade also with method to calculate the average grade of the students\n",
    "# to determine if the student pass or fail\n",
    "class Student:\n",
    "    def __init__(self, name,grade):\n",
    "        self.name=name\n",
    "        self.grade=grade\n",
    "    def average_grade(self):\n",
    "        average= sum(self.grade)/len(self.grade)\n",
    "        return average\n",
    "    def studentstatus(self):\n",
    "        average=self.average_grade()\n",
    "        if average>=50:\n",
    "            print(f\"The average grade is {self.grade} with {average} and {self.name} passed\")\n",
    "        else:\n",
    "            print(f\"The average grade is {self.grade} with {average} and {self.name} failed\")\n",
    "S1=Student('Wura',[23,92,45])\n",
    "S1.studentstatus()"
   ]
  },
  {
   "cell_type": "code",
   "execution_count": 24,
   "id": "9e20daf2-7dad-49b3-b8c7-7dc6b946ab2c",
   "metadata": {},
   "outputs": [
    {
     "name": "stdout",
     "output_type": "stream",
     "text": [
      " This book titled \"Atomic Habits\" by James Clear is about 347 pages and therefore it is a long read\n"
     ]
    }
   ],
   "source": [
    "# Create a book class that represent a book with attributes like title,author and pages\n",
    "#... Write a method to print the full details and also a method to check if it is a long read or not...long read if more than 250 pages.\n",
    "class Book:\n",
    "    def __init__(self,title,author,pages):\n",
    "        self.title=title\n",
    "        self.author=author\n",
    "        self.pages=pages\n",
    "    def page_num(self):\n",
    "        pages=self.pages\n",
    "    def Fulldetails(self):\n",
    "        pages=self.pages\n",
    "        if pages>250:\n",
    "            print(f' This book titled \"{self.title}\" by {self.author} is about {self.pages} pages and therefore it is a long read')\n",
    "        else:\n",
    "            print(f' This book titled \"{self.title}\" by {self.author} is not a long read')\n",
    "B1=Book('Atomic Habits', 'James Clear', 347)\n",
    "B1.Fulldetails()"
   ]
  },
  {
   "cell_type": "markdown",
   "id": "0d67e53f-91fa-4005-ac26-7c8b324e7b5d",
   "metadata": {},
   "source": [
    "# DIFFERENT TYPES OF OOP\n",
    "1. INHERITANCE\n",
    "2. ENCAPSULATION\n",
    "3. POLYMORPHISM\n",
    "4. ABSTRACTION"
   ]
  },
  {
   "cell_type": "code",
   "execution_count": 4,
   "id": "5f25cf24-1d13-40b5-978a-6f461c7fd308",
   "metadata": {},
   "outputs": [
    {
     "name": "stdout",
     "output_type": "stream",
     "text": [
      "The make of the car is Tesla and was made in the year 2023.\n",
      "The car is Toyota and made in 2024 and is Blue in color.\n"
     ]
    }
   ],
   "source": [
    "# 1. Inheritance\n",
    "class Vehicle():\n",
    "    def __init__(self,make,year):\n",
    "        self.make=make\n",
    "        self.year=year\n",
    "    def Info(self):\n",
    "        print(f'The make of the car is {self.make} and was made in the year {self.year}.')\n",
    "class Car(Vehicle):\n",
    "    def __init__(self,make,year,color):\n",
    "        super().__init__(make,year)\n",
    "        self.color=color\n",
    "    def Fullinfo(self):\n",
    "        print(f'The car is {self.make} and made in {self.year} and is {self.color} in color.')\n",
    "V1=Vehicle('Tesla', 2023)\n",
    "C1=Car('Toyota',2024, 'Blue')\n",
    "V1.Info()\n",
    "C1.Fullinfo()"
   ]
  },
  {
   "cell_type": "code",
   "execution_count": 11,
   "id": "d17b835f-d82f-4f76-9ac7-b884706d71fc",
   "metadata": {},
   "outputs": [
    {
     "name": "stdout",
     "output_type": "stream",
     "text": [
      "The manager of ABC Foods is Mr.Akeem Azeez.\n",
      "The manager of ABC Foods is Mr.Akeem Azeez and has appointed John Newton has the new head of IT with immediate effect.\n"
     ]
    }
   ],
   "source": [
    "# Create a parent class Manager that has name then create a sub class employee that has name of the employee and post held \n",
    "# define methods to print out full information for both class.\n",
    "class Manager():\n",
    "    def __init__(self,Manager_name):\n",
    "        self.Manager_name=Manager_name\n",
    "    def Managerinfo(self):\n",
    "        print(f'The manager of ABC Foods is {self.Manager_name}.')\n",
    "class Employee(Manager):\n",
    "    def __init__(self,Manager_name,Employee_name,Employee_post):\n",
    "        super().__init__(Manager_name)\n",
    "        self.Employee_name=Employee_name\n",
    "        self.Employee_post=Employee_post\n",
    "    def Employeeinfo(self):\n",
    "        print(f'The manager of ABC Foods is {self.Manager_name} and has appointed {self.Employee_name} has the new head of {self.Employee_post} with immediate effect.')\n",
    "M1=Manager('Mr.Akeem Azeez')\n",
    "E1=Employee('Mr.Akeem Azeez','John Newton', 'IT')\n",
    "M1.Managerinfo()\n",
    "E1.Employeeinfo()"
   ]
  },
  {
   "cell_type": "code",
   "execution_count": 14,
   "id": "72a3befe-c96a-4768-822a-8cdb1d219212",
   "metadata": {},
   "outputs": [
    {
     "name": "stdout",
     "output_type": "stream",
     "text": [
      "Hello! Your balance is: 1750\n"
     ]
    }
   ],
   "source": [
    "# 2. Encapsulation\n",
    "class Bankaccount():\n",
    "    def __init__(self,balance):\n",
    "        self.balance=balance\n",
    "    def Deposit(self,amount):\n",
    "        if amount>0:\n",
    "            self.balance+=amount\n",
    "    def Get_balance(self):\n",
    "        return self.balance\n",
    "Acc1= Bankaccount(1000)\n",
    "Acc1.Deposit(750)\n",
    "print('Hello! Your balance is:',Acc1.Get_balance())"
   ]
  },
  {
   "cell_type": "code",
   "execution_count": 18,
   "id": "980cc8f0-d65c-4c5e-977a-a03505d2d77f",
   "metadata": {},
   "outputs": [
    {
     "name": "stdout",
     "output_type": "stream",
     "text": [
      "Deposited amount: 7000 and new balance is 9000\n",
      "Amount withdrawn is 5000 and new balance is 4000\n",
      "Total balance is 4000\n"
     ]
    }
   ],
   "source": [
    "class Account():\n",
    "    def __init__(self,Account_no, Balance):\n",
    "        self.Account_no=Account_no\n",
    "        self.Balance=Balance\n",
    "    def Deposit(self,Amount):\n",
    "        if Amount>0:\n",
    "            self.Balance+=Amount\n",
    "            print(f'Deposited amount: {Amount} and new balance is {self.Balance}')\n",
    "    def Withdraw(self,Amount):\n",
    "        if Amount<=self.Balance:\n",
    "            self.Balance-=Amount\n",
    "            print(f'Amount withdrawn is {Amount} and new balance is {self.Balance}')\n",
    "        else:\n",
    "            print(f'Insufficient funds: your balance is {self.Balance}')\n",
    "    def Balance_Acc(self):\n",
    "        print(f'Total balance is {self.Balance}')\n",
    "\n",
    "A1=Account('0225897404', 2000)\n",
    "A1.Deposit(7000)\n",
    "A1.Withdraw(5000)\n",
    "A1.Balance_Acc()"
   ]
  },
  {
   "cell_type": "code",
   "execution_count": 20,
   "id": "10818693-3634-46e2-b63d-642fc6da382d",
   "metadata": {},
   "outputs": [
    {
     "name": "stdout",
     "output_type": "stream",
     "text": [
      "Square Area: 16\n",
      "Circle Area: 28.278\n"
     ]
    }
   ],
   "source": [
    "# 3. Polymorphism\n",
    "class Shape:\n",
    "    def Area(self):\n",
    "        pass\n",
    "class Square(Shape):\n",
    "    def __init__(self,side):\n",
    "        self.side=side\n",
    "    def Area(self):\n",
    "        return self.side*self.side\n",
    "class Circle(Shape):\n",
    "    def __init__(self,radius):\n",
    "        self.radius=radius\n",
    "    def Area(self):\n",
    "        return 3.142*self.radius*self.radius\n",
    "S=Square(4)\n",
    "C=Circle(3)\n",
    "\n",
    "print('Square Area:',S.Area())\n",
    "print('Circle Area:',C.Area())"
   ]
  },
  {
   "cell_type": "code",
   "execution_count": 21,
   "id": "9bfdbc44-412d-46d7-aeec-9298165b14ef",
   "metadata": {},
   "outputs": [
    {
     "name": "stdout",
     "output_type": "stream",
     "text": [
      "Car engine started\n"
     ]
    }
   ],
   "source": [
    "# Abstraction\n",
    "from abc import ABC, abstractmethod\n",
    "class Vehicle(ABC):\n",
    "    @abstractmethod\n",
    "    def start_engine(self):\n",
    "        pass\n",
    "class Car(Vehicle):\n",
    "    def start_engine(self):\n",
    "        print('Car engine started')\n",
    "\n",
    "C=Car()\n",
    "C.start_engine()\n"
   ]
  },
  {
   "cell_type": "code",
   "execution_count": null,
   "id": "65f52dc2-7df1-4d49-8a7b-694b3eb5ee61",
   "metadata": {},
   "outputs": [],
   "source": []
  }
 ],
 "metadata": {
  "kernelspec": {
   "display_name": "Python 3 (ipykernel)",
   "language": "python",
   "name": "python3"
  },
  "language_info": {
   "codemirror_mode": {
    "name": "ipython",
    "version": 3
   },
   "file_extension": ".py",
   "mimetype": "text/x-python",
   "name": "python",
   "nbconvert_exporter": "python",
   "pygments_lexer": "ipython3",
   "version": "3.11.7"
  }
 },
 "nbformat": 4,
 "nbformat_minor": 5
}
