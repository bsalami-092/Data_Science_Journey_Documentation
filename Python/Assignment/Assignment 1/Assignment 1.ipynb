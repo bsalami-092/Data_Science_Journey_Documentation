{
 "cells": [
  {
   "cell_type": "code",
   "execution_count": 31,
   "id": "a12f780b-d3c7-4ce2-9c90-1264a7a6d456",
   "metadata": {},
   "outputs": [
    {
     "name": "stdin",
     "output_type": "stream",
     "text": [
      "Enter value here:  11\n"
     ]
    },
    {
     "name": "stdout",
     "output_type": "stream",
     "text": [
      "The number is geater than 10\n"
     ]
    }
   ],
   "source": [
    "# 1) Write a Python program that checks if a number is greater than 10. If it is, print \"The number is greater than 10.\"\n",
    "X = float(input('Enter value here: '))\n",
    "if X>10:\n",
    "    print(f'The number is geater than 10')"
   ]
  },
  {
   "cell_type": "code",
   "execution_count": 4,
   "id": "79ca1235-49f8-4074-b94b-f944c2e45829",
   "metadata": {},
   "outputs": [
    {
     "name": "stdin",
     "output_type": "stream",
     "text": [
      "Enter value here:  -23\n"
     ]
    },
    {
     "name": "stdout",
     "output_type": "stream",
     "text": [
      "Negative\n"
     ]
    }
   ],
   "source": [
    "# 2) Write a Python program that checks if a number is positive or negative. Print \"Positive\" if it’s positive, and \"Negative\" if it’s negative.)\n",
    "Y = float(input('Enter value here: '))\n",
    "if Y>0:\n",
    "    print('Positive')\n",
    "else:\n",
    "    print('Negative')"
   ]
  },
  {
   "cell_type": "code",
   "execution_count": 2,
   "id": "ab99301c-c27a-4cb4-8e9b-cefc9415db3d",
   "metadata": {},
   "outputs": [
    {
     "name": "stdin",
     "output_type": "stream",
     "text": [
      "Enter value here:  23\n"
     ]
    },
    {
     "name": "stdout",
     "output_type": "stream",
     "text": [
      "Odd\n"
     ]
    }
   ],
   "source": [
    "# 3) Write a Python program that checks if a number is even or odd. Print \"Even\" if the number is even, and \"Odd\" if it is odd.\n",
    "X = int(input('Enter value here: '))\n",
    "if X%2==0:\n",
    "    print('Even')\n",
    "else:\n",
    "    print('Odd')"
   ]
  },
  {
   "cell_type": "code",
   "execution_count": 3,
   "id": "84ab9d51-505c-445b-901b-e0f8c8418cd4",
   "metadata": {},
   "outputs": [
    {
     "name": "stdin",
     "output_type": "stream",
     "text": [
      "Enter age here:  12\n"
     ]
    },
    {
     "name": "stdout",
     "output_type": "stream",
     "text": [
      "Not eligible to vote\n"
     ]
    }
   ],
   "source": [
    "# 4) Write a Python program that checks if someone is eligible to vote. If their age is 18 or\n",
    "# older, print \"Eligible to vote,\" otherwise print \"Not eligible to vote.\"\n",
    "Age = int(input('Enter age here: '))\n",
    "if Age>= 18:\n",
    "    print('Eligible to vote')\n",
    "else:\n",
    "    print('Not eligible to vote')"
   ]
  },
  {
   "cell_type": "code",
   "execution_count": 4,
   "id": "b76f702d-df2b-458e-bdb9-0158f8699ea1",
   "metadata": {},
   "outputs": [
    {
     "name": "stdin",
     "output_type": "stream",
     "text": [
      "Enter value here:  23\n"
     ]
    },
    {
     "name": "stdout",
     "output_type": "stream",
     "text": [
      "Not divisible by 5\n"
     ]
    }
   ],
   "source": [
    "# 5) Write a Python program that checks if a number is divisible by 5. If it is, print \"Divisible by 5,\" otherwise print \"Not divisible by 5.\"\n",
    "Z = int(input('Enter value here: '))\n",
    "if Z%5==0:\n",
    "    print('Divisible by 5')\n",
    "else:\n",
    "    print('Not divisible by 5')"
   ]
  },
  {
   "cell_type": "code",
   "execution_count": 6,
   "id": "6ac8605f-4f4f-4564-9c00-1224e5836b6d",
   "metadata": {},
   "outputs": [
    {
     "name": "stdin",
     "output_type": "stream",
     "text": [
      "Enter value here:  32\n",
      "Enter value here:  2\n"
     ]
    },
    {
     "name": "stdout",
     "output_type": "stream",
     "text": [
      "32.0\n"
     ]
    }
   ],
   "source": [
    "# 6) Write a Python program that takes two numbers and prints the greater number. If they are equal, print \"Both numbers are equal.\"\n",
    "A = float(input('Enter value here: '))\n",
    "B = float(input('Enter value here: '))\n",
    "if A>B:\n",
    "    print(A)\n",
    "elif B>A:\n",
    "    print(B)\n",
    "else:\n",
    "    print('Both numbers are equal')"
   ]
  },
  {
   "cell_type": "code",
   "execution_count": 8,
   "id": "c7f80257-941c-4bd1-8dcf-ca5068c9351a",
   "metadata": {},
   "outputs": [
    {
     "name": "stdin",
     "output_type": "stream",
     "text": [
      "Enter temperature value in degree celsius here:  -8.9\n"
     ]
    },
    {
     "name": "stdout",
     "output_type": "stream",
     "text": [
      "It's freezing\n"
     ]
    }
   ],
   "source": [
    "# 7) Write a Python program that checks if the temperature is below freezing point (0°C). \n",
    "# If it is, print \"It's freezing,\" otherwise print \"It's not freezing.\"\n",
    "Temp = float(input('Enter temperature value in degree celsius here: '))\n",
    "if Temp<0:\n",
    "    print(\"It's freezing\")\n",
    "else:\n",
    "    print(\"It's not freezing\")\n",
    "\n"
   ]
  },
  {
   "cell_type": "code",
   "execution_count": 12,
   "id": "06f3778f-553c-48a8-a91d-29d7a2fefeb8",
   "metadata": {},
   "outputs": [
    {
     "name": "stdin",
     "output_type": "stream",
     "text": [
      "Enter password here:  oke\n"
     ]
    },
    {
     "name": "stdout",
     "output_type": "stream",
     "text": [
      "Access denied\n"
     ]
    }
   ],
   "source": [
    "# 8) Write a Python program that asks the user to enter a password. If the password\n",
    "# matches a predefined string, print \"Access granted,\" otherwise print \"Access denied.\"\n",
    "Pass = input('Enter password here: ')\n",
    "if Pass=='Olami124':\n",
    "    print('Access granted')\n",
    "else:\n",
    "    print('Access denied')"
   ]
  },
  {
   "cell_type": "code",
   "execution_count": 14,
   "id": "1e39e31d-1ffd-4e3c-8a25-63a435a6b982",
   "metadata": {},
   "outputs": [
    {
     "name": "stdin",
     "output_type": "stream",
     "text": [
      "Enter number here:  23\n",
      "Enter number here:  24\n",
      "Enter operator here:  **\n"
     ]
    },
    {
     "name": "stdout",
     "output_type": "stream",
     "text": [
      "Invalid operator\n"
     ]
    }
   ],
   "source": [
    "# 9) Write a Python program that takes two numbers and a mathematical operator (+, -, *,/). Use if and else to perform the corresponding operation \n",
    "# and print the result. If an invalid operator is entered, print \"Invalid operator.\"\n",
    "Num1 = float(input('Enter number here: '))\n",
    "Num2 = float(input('Enter number here: '))\n",
    "Operator = input('Enter operator here: ')\n",
    "if Operator=='+':\n",
    "    print(Num1 + Num2)\n",
    "elif Operator=='-':\n",
    "    print(Num1 - Num2)\n",
    "elif Operator=='*':\n",
    "    print(Num1 * Num2)\n",
    "elif Operator=='/':\n",
    "    print(Num1 / Num2)\n",
    "else:\n",
    "    print('Invalid operator')"
   ]
  },
  {
   "cell_type": "code",
   "execution_count": 17,
   "id": "5e93a8bd-4647-47b9-84dc-ed02bd0b5bc6",
   "metadata": {},
   "outputs": [
    {
     "name": "stdin",
     "output_type": "stream",
     "text": [
      "Enter student score here:  70\n"
     ]
    },
    {
     "name": "stdout",
     "output_type": "stream",
     "text": [
      "C\n"
     ]
    }
   ],
   "source": [
    "# 10) Write a Python program that takes a student's score as input. If the score is 90 or above, print \"A\". If it's between 80 and 89, print \"B\".\n",
    "# If it's between 70 and 79, print \"C\". If it's between 60 and 69, print \"D\". Otherwise, print \"F\".\n",
    "Score = float(input('Enter student score here: '))\n",
    "if Score>=90:\n",
    "    print('A')\n",
    "elif Score>=80:\n",
    "    print('B')\n",
    "elif Score>=70:\n",
    "    print('C')\n",
    "elif Score>=60:\n",
    "    print('D')\n",
    "else:\n",
    "    print('F')"
   ]
  },
  {
   "cell_type": "code",
   "execution_count": 18,
   "id": "d6238ffa-6c30-44a7-a45f-1929fbe9e94e",
   "metadata": {},
   "outputs": [
    {
     "name": "stdin",
     "output_type": "stream",
     "text": [
      "Enter value her:  0\n"
     ]
    },
    {
     "name": "stdout",
     "output_type": "stream",
     "text": [
      "Zero\n"
     ]
    }
   ],
   "source": [
    "# 11) Write a Python program that takes a number as input and checks if it's positive, negative, or zero. Print \"Positive\" if it's positive,\n",
    "# \"Negative\" if it's negative, and \"Zero\" if it's zero.\n",
    "A = float(input('Enter value her: '))\n",
    "if A>0:\n",
    "    print('Positive')\n",
    "elif A<0:\n",
    "    print('Negative')\n",
    "else:\n",
    "    print('Zero')"
   ]
  },
  {
   "cell_type": "code",
   "execution_count": 26,
   "id": "04db6de5-07e2-4e5c-bb0c-acf3eb9863ee",
   "metadata": {},
   "outputs": [
    {
     "name": "stdin",
     "output_type": "stream",
     "text": [
      "Enter month here:    JANUAry\n"
     ]
    },
    {
     "name": "stdout",
     "output_type": "stream",
     "text": [
      "Winter\n"
     ]
    }
   ],
   "source": [
    "# 12) Write a Python program that takes a month as input and prints the corresponding season. Use the following:\n",
    "# a. Winter: December, January, February\n",
    "# b. Spring: March, April, May\n",
    "# c. Summer: June, July, August\n",
    "# d. Autumn: September, October, November\n",
    "Month = input('Enter month here: ').strip().capitalize()\n",
    "if Month in {'December', 'January', 'February'}:\n",
    "    print('Winter')\n",
    "elif Month in {'March', 'April', 'May'}:\n",
    "    print('Spring')\n",
    "elif Month in {'June', 'July', 'August'}:\n",
    "    print('Summer')\n",
    "else:\n",
    "    print('Autumn')"
   ]
  },
  {
   "cell_type": "code",
   "execution_count": 30,
   "id": "bb77eda1-13cb-4983-a4b7-6f13d9af9b9e",
   "metadata": {},
   "outputs": [
    {
     "name": "stdin",
     "output_type": "stream",
     "text": [
      "Enter integer value between 1-7 here:  7\n"
     ]
    },
    {
     "name": "stdout",
     "output_type": "stream",
     "text": [
      "Sunday\n"
     ]
    }
   ],
   "source": [
    "# 13) Write a Python program that takes an integer (1-7) as input, where 1 represents Monday and 7 represents Sunday.\n",
    "# Print the corresponding day of the week.\n",
    "Day = int(input('Enter integer value between 1-7 here: '))\n",
    "if Day==1:\n",
    "    print('Monday')\n",
    "elif Day==2:\n",
    "    print('Tuesday')\n",
    "elif Day==3:\n",
    "    print('Wednesday')\n",
    "elif Day==4:\n",
    "    print('Thursday')\n",
    "elif Day==5:\n",
    "    print('Friday')\n",
    "elif Day==6:\n",
    "    print('Saturday')\n",
    "elif Day==7: \n",
    "    print('Sunday')\n",
    "else:\n",
    "    print('Invalid input!')"
   ]
  },
  {
   "cell_type": "code",
   "execution_count": 5,
   "id": "ef1194ca-22a5-44e5-8787-84e01edcd37d",
   "metadata": {},
   "outputs": [
    {
     "name": "stdin",
     "output_type": "stream",
     "text": [
      "Enter traffic light color here:  REd\n"
     ]
    },
    {
     "name": "stdout",
     "output_type": "stream",
     "text": [
      "Stop\n"
     ]
    }
   ],
   "source": [
    "# 14) Write a Python program that takes a color as input (red, yellow, green) and prints the corresponding action (Stop, Wait, Go).\n",
    "X = input('Enter traffic light color here: ').strip().lower()\n",
    "if X=='red':\n",
    "    print('Stop')\n",
    "elif X=='yellow':\n",
    "    print('Wait')\n",
    "elif X=='green':\n",
    "    print('Go')\n",
    "else:\n",
    "    print('Invalid input!')"
   ]
  },
  {
   "cell_type": "code",
   "execution_count": 6,
   "id": "0432d8c5-2d80-4041-ac7d-f5061cb705a9",
   "metadata": {},
   "outputs": [
    {
     "name": "stdin",
     "output_type": "stream",
     "text": [
      "Enter weight in kilogram here:  140\n",
      "Enter height in meters here:  0.56\n"
     ]
    },
    {
     "name": "stdout",
     "output_type": "stream",
     "text": [
      "Your Body Mass Index (BMI) is 446.4, which implies that you are classified as Obesity.\n"
     ]
    }
   ],
   "source": [
    "# 15) Write a Python program that calculates the Body Mass Index (BMI) given weight (in kg) and height (in meters).\n",
    "# Classify the result as \"Underweight\" (BMI < 18.5), \"Normal weight\" (BMI 18.5-24.9), \"Overweight\" (BMI 25-29.9), or \"Obesity\" (BMI 30 and above).\n",
    "Weight = float(input('Enter weight in kilogram here: '))\n",
    "Height = float(input('Enter height in meters here: '))\n",
    "if Weight<=0 or Height<=0:\n",
    "    print('Error: Weight and height must be positive number')\n",
    "else:\n",
    "    BMI = round( Weight / (Height**2),1)\n",
    "\n",
    "if BMI>=30:\n",
    "    Classification = 'Obesity'\n",
    "elif BMI>=25:\n",
    "    Classification = 'Overweight'\n",
    "elif BMI>=18.5:\n",
    "    Classification = 'Normal weight'\n",
    "else:\n",
    "    Classification = 'Underweight'\n",
    "\n",
    "print(f'Your Body Mass Index (BMI) is {BMI}, which implies that you are classified as {Classification}.')"
   ]
  },
  {
   "cell_type": "code",
   "execution_count": 9,
   "id": "ce8b65dd-ae9f-49a6-91e9-fc5e1c2621c0",
   "metadata": {},
   "outputs": [
    {
     "name": "stdin",
     "output_type": "stream",
     "text": [
      "Enter number here:  10\n"
     ]
    },
    {
     "name": "stdout",
     "output_type": "stream",
     "text": [
      "Low\n"
     ]
    }
   ],
   "source": [
    "# 16) Write a Python program that checks if a number falls within certain ranges. Print \"Low\" if it's between 1 and 10, \n",
    "# \"Medium\" if it's between 11 and 20, \"High\" if it's between 21 and 30, and \"Out of range\" otherwise.\n",
    "Num_check = float(input('Enter number here: '))\n",
    "if 1<=Num_check<=10:\n",
    "    print('Low')\n",
    "elif 11<=Num_check<=20:\n",
    "    print('Medium')\n",
    "elif 21<=Num_check<=30:\n",
    "    print('High')\n",
    "else:\n",
    "    print('Out of range')"
   ]
  },
  {
   "cell_type": "code",
   "execution_count": 14,
   "id": "cf9e99e3-0173-4560-ad36-9e8083a81ea7",
   "metadata": {},
   "outputs": [
    {
     "name": "stdin",
     "output_type": "stream",
     "text": [
      "Enter your age here:  16\n"
     ]
    },
    {
     "name": "stdout",
     "output_type": "stream",
     "text": [
      "Almost eligible\n"
     ]
    }
   ],
   "source": [
    "# 17) Write a Python program that checks if a person is eligible to vote. If the person is 18 or older, print \"Eligible to vote\".\n",
    "# If they are under 18 but at least 16, print \"Almost eligible\". Otherwise, print \"Not eligible to vote\".\n",
    "Age = int(input('Enter your age here: '))\n",
    "if 16<= Age <18:\n",
    "    print('Almost eligible')\n",
    "elif Age>=18:\n",
    "    print('Eligible to vote')\n",
    "else:\n",
    "    print('Not eligible to vote')\n"
   ]
  },
  {
   "cell_type": "code",
   "execution_count": 1,
   "id": "2a0bee68-0384-4231-9f79-520ca0944205",
   "metadata": {},
   "outputs": [
    {
     "name": "stdin",
     "output_type": "stream",
     "text": [
      "Enter student score in percentage 23\n"
     ]
    },
    {
     "name": "stdout",
     "output_type": "stream",
     "text": [
      "Fail\n"
     ]
    }
   ],
   "source": [
    "# 18) Write a Python program that takes a student's percentage score as input. If the score is 90 or above, print \"Excellent\". \n",
    "# If it's between 75 and 89, print \"Good\". If it's between 50 and 74, print \"Pass\". If it's below 50, print \"Fail\"\n",
    "Z = float(input('Enter student score in percentage'))\n",
    "if Z>=90:\n",
    "    print('Excellent')\n",
    "elif Z>=75:\n",
    "    print('Good')\n",
    "elif Z>=50:\n",
    "    print('Pass')\n",
    "else:\n",
    "    print('Fail')\n",
    "                "
   ]
  },
  {
   "cell_type": "code",
   "execution_count": 4,
   "id": "5bdb647b-6195-47ea-bb42-1d3a0941a495",
   "metadata": {},
   "outputs": [
    {
     "name": "stdin",
     "output_type": "stream",
     "text": [
      "Enter Math score here:  50\n",
      "Enter English score here:  50\n"
     ]
    },
    {
     "name": "stdout",
     "output_type": "stream",
     "text": [
      "Admissible in UI and OAU\n"
     ]
    }
   ],
   "source": [
    "# 19) University of Ibadan requires a student to score 50 &above to be considered for admission in both English and mathematics oau requires \n",
    "# students to score at least 50 in either English or mathematics write a condition to check if a student is admissible in UI or oau or not admissible\n",
    "X = float(input('Enter Math score here: '))\n",
    "Y = float(input('Enter English score here: '))\n",
    "if X>=50 and Y>=50:\n",
    "    print('Admissible in UI and OAU')\n",
    "elif X>=50 or Y>=50:\n",
    "    print('Admissible in OAU')\n",
    "else:\n",
    "    print('Not admissible')"
   ]
  },
  {
   "cell_type": "code",
   "execution_count": 9,
   "id": "3e2d4a64-c9d1-4eee-831f-2f2fd4579e4d",
   "metadata": {},
   "outputs": [
    {
     "name": "stdin",
     "output_type": "stream",
     "text": [
      "Enter a single character:  n\n"
     ]
    },
    {
     "name": "stdout",
     "output_type": "stream",
     "text": [
      "'n' is a letter.\n"
     ]
    }
   ],
   "source": [
    "# 20) Write a python program that takes a single character as input and prints if it is a letter\n",
    "\n",
    "char = input('Enter a single character: ')\n",
    "\n",
    "if len(char) == 1:\n",
    "    if char.isalpha():\n",
    "        print(f\"'{char}' is a letter.\")\n",
    "    else:\n",
    "        print(f\"'{char}' is not a letter.\")\n",
    "else:\n",
    "    print('Please enter exactly one character.')"
   ]
  },
  {
   "cell_type": "code",
   "execution_count": 13,
   "id": "8e7be026-83a0-48db-845f-20397a6c026b",
   "metadata": {},
   "outputs": [
    {
     "name": "stdin",
     "output_type": "stream",
     "text": [
      "Enter age here:  13\n"
     ]
    },
    {
     "name": "stdout",
     "output_type": "stream",
     "text": [
      "Teenager\n"
     ]
    }
   ],
   "source": [
    "# 21) Write a python program that takes an age as input and print the corresponding group if it is between 0-12 print ‘child’, \n",
    "# if it is between 13-19 print ’ teenager’, if it is between 20-59 print ‘adult’ if it is 60 and above print ‘senior citizen’\n",
    "A = int(input('Enter age here: '))\n",
    "if A>=60:\n",
    "    print('Senior citizen')\n",
    "elif A>=20:\n",
    "    print('Adult')\n",
    "elif A>=13:\n",
    "    print('Teenager')\n",
    "elif A>=0:\n",
    "    print('Child')\n",
    "else:\n",
    "    print('Invalid input! Age cannot be negative')"
   ]
  },
  {
   "cell_type": "code",
   "execution_count": null,
   "id": "4bae766e-d21f-48e1-b4e2-5a10c0db564a",
   "metadata": {},
   "outputs": [],
   "source": []
  }
 ],
 "metadata": {
  "kernelspec": {
   "display_name": "Python 3 (ipykernel)",
   "language": "python",
   "name": "python3"
  },
  "language_info": {
   "codemirror_mode": {
    "name": "ipython",
    "version": 3
   },
   "file_extension": ".py",
   "mimetype": "text/x-python",
   "name": "python",
   "nbconvert_exporter": "python",
   "pygments_lexer": "ipython3",
   "version": "3.11.7"
  }
 },
 "nbformat": 4,
 "nbformat_minor": 5
}
