{
 "cells": [
  {
   "cell_type": "code",
   "execution_count": null,
   "metadata": {
    "id": "PPwM9PbINdzk"
   },
   "outputs": [],
   "source": [
    "import torch\n",
    "from torch import nn,optim\n",
    "from torchvision import datasets,transforms\n",
    "from torch.utils.data import DataLoader, random_split\n",
    "import numpy as np\n",
    "from tqdm import tqdm\n",
    "from sklearn.metrics import f1_score\n",
    "import matplotlib.pyplot as plt\n",
    "import wandb"
   ]
  },
  {
   "cell_type": "code",
   "execution_count": null,
   "metadata": {
    "colab": {
     "base_uri": "https://localhost:8080/"
    },
    "executionInfo": {
     "elapsed": 10316,
     "status": "ok",
     "timestamp": 1756991219055,
     "user": {
      "displayName": "",
      "userId": ""
     },
     "user_tz": -60
    },
    "id": "eGZ-XnPTOJpf",
    "outputId": "562a0230-70f6-4947-9706-ee6c1c9be861"
   },
   "outputs": [
    {
     "name": "stderr",
     "output_type": "stream",
     "text": [
      "100%|██████████| 9.91M/9.91M [00:02<00:00, 4.56MB/s]\n",
      "100%|██████████| 28.9k/28.9k [00:00<00:00, 133kB/s]\n",
      "100%|██████████| 1.65M/1.65M [00:01<00:00, 1.26MB/s]\n",
      "100%|██████████| 4.54k/4.54k [00:00<00:00, 13.2MB/s]\n"
     ]
    }
   ],
   "source": [
    "# prepare the dataset\n",
    "\n",
    "\n",
    "# setup transform\n",
    "tranform = transforms.Compose([\n",
    "    transforms.ToTensor(),\n",
    "    transforms.RandomHorizontalFlip(p=0.4)\n",
    "])\n",
    "\n",
    "train_data = datasets.MNIST(root='data/',train=True, transform=tranform,download=True)\n",
    "test_data = datasets.MNIST(root='data/',train=False, transform=tranform, download=True)"
   ]
  },
  {
   "cell_type": "code",
   "execution_count": null,
   "metadata": {
    "colab": {
     "base_uri": "https://localhost:8080/",
     "height": 469
    },
    "executionInfo": {
     "elapsed": 340,
     "status": "ok",
     "timestamp": 1756991219400,
     "user": {
      "displayName": "",
      "userId": ""
     },
     "user_tz": -60
    },
    "id": "JmlGUALePlcM",
    "outputId": "91f8ef1d-68ff-4df8-f4fd-e0bad35daed6"
   },
   "outputs": [
    {
     "data": {
      "text/plain": [
       "Text(0.5, 1.0, 'This is an image of the number 7')"
      ]
     },
     "execution_count": 3,
     "metadata": {},
     "output_type": "execute_result"
    },
    {
     "data": {
      "image/png": "[encoded data removed]",
      "text/plain": [
       "<Figure size 640x480 with 1 Axes>"
      ]
     },
     "metadata": {},
     "output_type": "display_data"
    }
   ],
   "source": [
    "plt.imshow(np.transpose(train_data[617][0], (1,2,0)), cmap=\"grey\")\n",
    "plt.title(f\"This is an image of the number {train_data[617][1]}\")"
   ]
  },
  {
   "cell_type": "code",
   "execution_count": null,
   "metadata": {
    "colab": {
     "base_uri": "https://localhost:8080/"
    },
    "executionInfo": {
     "elapsed": 45,
     "status": "ok",
     "timestamp": 1756991219438,
     "user": {
      "displayName": "",
      "userId": ""
     },
     "user_tz": -60
    },
    "id": "w0beGlg8Q1mr",
    "outputId": "de476fbc-974e-4ea6-8cbf-bce603050b63"
   },
   "outputs": [
    {
     "data": {
      "text/plain": [
       "torch.Size([1, 28, 28])"
      ]
     },
     "execution_count": 4,
     "metadata": {},
     "output_type": "execute_result"
    }
   ],
   "source": [
    "train_data[0][0].shape"
   ]
  },
  {
   "cell_type": "code",
   "execution_count": null,
   "metadata": {
    "id": "1TolZCVtPppE"
   },
   "outputs": [],
   "source": [
    "# define the network\n",
    "\n",
    "class Digit_NN(nn.Module):\n",
    "\n",
    "  def __init__(self) -> None:\n",
    "    super().__init__()\n",
    "    self.conv1 = nn.Conv2d(in_channels=1, out_channels=32, kernel_size=3, stride=1, padding = 1) # 32 by 28 by 28\n",
    "    self.conv2 = nn.Conv2d(in_channels=32, out_channels=64, kernel_size=3, stride=1, padding = 1) # 64 by 28 by 28\n",
    "    self.pool = nn.MaxPool2d(kernel_size=2, stride=2) # 64 by 14 by 14\n",
    "    self.flatten = nn.Flatten()\n",
    "    self.fc1 = nn.Linear(in_features=64*7*7, out_features=1000)\n",
    "    self.fc2 = nn.Linear(in_features=1000, out_features=250)\n",
    "    self.out = nn.Linear(in_features=250, out_features=10)\n",
    "    self.relu = nn.ReLU()\n",
    "    self.dropout = nn.Dropout(p=0.4)\n",
    "\n",
    "\n",
    "  def forward(self, X:torch.Tensor) -> torch.Tensor:\n",
    "    result = self.relu(self.conv1(X)) # 32 by 28 by 28\n",
    "    result = self.pool(result)  # 32 by 14 by 14\n",
    "    result = self.relu(self.conv2(result)) # 64 by 14 by 14\n",
    "    result = self.pool(result) #64 by 7 by 7\n",
    "    result = self.flatten(result)\n",
    "    result = self.dropout(self.relu(self.fc1(result)))\n",
    "    result = self.dropout(self.relu(self.fc2(result)))\n",
    "\n",
    "    return self.out(result)"
   ]
  },
  {
   "cell_type": "code",
   "execution_count": null,
   "metadata": {
    "id": "c3tcX0GvQ4U5"
   },
   "outputs": [],
   "source": [
    "# init the model and the model hyperparams\n",
    "\n",
    "device = 'cuda' if torch.cuda.is_available() else 'cpu'\n",
    "model = Digit_NN().to(device)\n",
    "lr = 2e-5\n",
    "optimizer = optim.AdamW(params = model.parameters(), lr=lr, weight_decay=0.01)\n",
    "criterion = nn.CrossEntropyLoss()\n",
    "batch_size = 32\n",
    "epochs = 10"
   ]
  },
  {
   "cell_type": "code",
   "execution_count": null,
   "metadata": {
    "colab": {
     "base_uri": "https://localhost:8080/",
     "height": 295
    },
    "executionInfo": {
     "elapsed": 16778,
     "status": "ok",
     "timestamp": 1756991236339,
     "user": {
      "displayName": "",
      "userId": ""
     },
     "user_tz": -60
    },
    "id": "BJUViysHwGPR",
    "outputId": "6d2b0f41-0efd-4af8-fa6b-407237702cd4"
   },
   "outputs": [
    {
     "name": "stderr",
     "output_type": "stream",
     "text": [
      "/usr/local/lib/python3.12/dist-packages/notebook/notebookapp.py:191: SyntaxWarning: invalid escape sequence '\\/'\n",
      "  | |_| | '_ \\/ _` / _` |  _/ -_)\n"
     ]
    },
    {
     "data": {
      "application/javascript": [
       "\n",
       "        window._wandbApiKey = new Promise((resolve, reject) => {\n",
       "            function loadScript(url) {\n",
       "            return new Promise(function(resolve, reject) {\n",
       "                let newScript = document.createElement(\"script\");\n",
       "                newScript.onerror = reject;\n",
       "                newScript.onload = resolve;\n",
       "                document.body.appendChild(newScript);\n",
       "                newScript.src = url;\n",
       "            });\n",
       "            }\n",
       "            loadScript(\"https://cdn.jsdelivr.net/npm/postmate/build/postmate.min.js\").then(() => {\n",
       "            const iframe = document.createElement('iframe')\n",
       "            iframe.style.cssText = \"width:0;height:0;border:none\"\n",
       "            document.body.appendChild(iframe)\n",
       "            const handshake = new Postmate({\n",
       "                container: iframe,\n",
       "                url: 'https://wandb.ai/authorize'\n",
       "            });\n",
       "            const timeout = setTimeout(() => reject(\"Couldn't auto authenticate\"), 5000)\n",
       "            handshake.then(function(child) {\n",
       "                child.on('authorize', data => {\n",
       "                    clearTimeout(timeout)\n",
       "                    resolve(data)\n",
       "                });\n",
       "            });\n",
       "            })\n",
       "        });\n",
       "    "
      ],
      "text/plain": [
       "<IPython.core.display.Javascript object>"
      ]
     },
     "metadata": {},
     "output_type": "display_data"
    },
    {
     "name": "stderr",
     "output_type": "stream",
     "text": [
      "\u001b[34m\u001b[1mwandb\u001b[0m: Logging into wandb.ai. (Learn how to deploy a W&B server locally: https://wandb.me/wandb-server)\n",
      "\u001b[34m\u001b[1mwandb\u001b[0m: You can find your API key in your browser here: https://wandb.ai/authorize?ref=models\n",
      "wandb: Paste an API key from your profile and hit enter:"
     ]
    },
    {
     "name": "stdout",
     "output_type": "stream",
     "text": [
      " ··········\n"
     ]
    },
    {
     "name": "stderr",
     "output_type": "stream",
     "text": [
      "\u001b[34m\u001b[1mwandb\u001b[0m: \u001b[33mWARNING\u001b[0m If you're specifying your api key in code, ensure this code is not shared publicly.\n",
      "\u001b[34m\u001b[1mwandb\u001b[0m: \u001b[33mWARNING\u001b[0m Consider setting the WANDB_API_KEY environment variable, or running `wandb login` from the command line.\n",
      "\u001b[34m\u001b[1mwandb\u001b[0m: No netrc file found, creating one.\n",
      "\u001b[34m\u001b[1mwandb\u001b[0m: Appending key for api.wandb.ai to your netrc file: /root/.netrc\n",
      "\u001b[34m\u001b[1mwandb\u001b[0m: Currently logged in as: \u001b[33msalamichino\u001b[0m (\u001b[33msalamichino-appclick\u001b[0m) to \u001b[32mhttps://api.wandb.ai\u001b[0m. Use \u001b[1m`wandb login --relogin`\u001b[0m to force relogin\n"
     ]
    },
    {
     "data": {
      "text/html": [
       "Tracking run with wandb version 0.21.1"
      ],
      "text/plain": [
       "<IPython.core.display.HTML object>"
      ]
     },
     "metadata": {},
     "output_type": "display_data"
    },
    {
     "data": {
      "text/html": [
       "Run data is saved locally in <code>/content/wandb/run-20250904_130711-j315yok4</code>"
      ],
      "text/plain": [
       "<IPython.core.display.HTML object>"
      ]
     },
     "metadata": {},
     "output_type": "display_data"
    },
    {
     "data": {
      "text/html": [
       "Syncing run <strong><a href='https://wandb.ai/salamichino-appclick/MNIST%20DIGIT%20RECOGNITION%20WITH%20CUSTOM%20CNN/runs/j315yok4' target=\"_blank\">proud-wood-1</a></strong> to <a href='https://wandb.ai/salamichino-appclick/MNIST%20DIGIT%20RECOGNITION%20WITH%20CUSTOM%20CNN' target=\"_blank\">Weights & Biases</a> (<a href='https://wandb.me/developer-guide' target=\"_blank\">docs</a>)<br>"
      ],
      "text/plain": [
       "<IPython.core.display.HTML object>"
      ]
     },
     "metadata": {},
     "output_type": "display_data"
    },
    {
     "data": {
      "text/html": [
       " View project at <a href='https://wandb.ai/salamichino-appclick/MNIST%20DIGIT%20RECOGNITION%20WITH%20CUSTOM%20CNN' target=\"_blank\">https://wandb.ai/salamichino-appclick/MNIST%20DIGIT%20RECOGNITION%20WITH%20CUSTOM%20CNN</a>"
      ],
      "text/plain": [
       "<IPython.core.display.HTML object>"
      ]
     },
     "metadata": {},
     "output_type": "display_data"
    },
    {
     "data": {
      "text/html": [
       " View run at <a href='https://wandb.ai/salamichino-appclick/MNIST%20DIGIT%20RECOGNITION%20WITH%20CUSTOM%20CNN/runs/j315yok4' target=\"_blank\">https://wandb.ai/salamichino-appclick/MNIST%20DIGIT%20RECOGNITION%20WITH%20CUSTOM%20CNN/runs/j315yok4</a>"
      ],
      "text/plain": [
       "<IPython.core.display.HTML object>"
      ]
     },
     "metadata": {},
     "output_type": "display_data"
    }
   ],
   "source": [
    "run = wandb.init(\n",
    "    project= \"MNIST DIGIT RECOGNITION WITH CUSTOM CNN\",\n",
    "    config = {\n",
    "        'model_type': \"Custom CNN\",\n",
    "        'learning rate': lr,\n",
    "        'optimizer': 'AdamW',\n",
    "        'Optimizer Params': {\"weight_decay\": 0.01},\n",
    "        'criterion': 'cross_entropy_loss',\n",
    "        'batch_size': batch_size,\n",
    "        'epochs': epochs\n",
    "    })"
   ]
  },
  {
   "cell_type": "code",
   "execution_count": null,
   "metadata": {
    "id": "Ncr76OeeWQZF"
   },
   "outputs": [],
   "source": [
    "# setup dataloader\n",
    "\n",
    "train_loader = DataLoader(dataset=train_data, batch_size=batch_size, shuffle=True)\n",
    "test_loader = DataLoader(dataset=test_data, batch_size=batch_size, shuffle=True)"
   ]
  },
  {
   "cell_type": "code",
   "execution_count": null,
   "metadata": {
    "colab": {
     "base_uri": "https://localhost:8080/",
     "height": 1000
    },
    "executionInfo": {
     "elapsed": 202982,
     "status": "ok",
     "timestamp": 1756991439333,
     "user": {
      "displayName": "",
      "userId": ""
     },
     "user_tz": -60
    },
    "id": "OLs8YDc-U178",
    "outputId": "374c79a4-61a5-4e92-d67a-d9b95f5020ea"
   },
   "outputs": [
    {
     "name": "stderr",
     "output_type": "stream",
     "text": [
      "Training Epoch 1/10...: 100%|██████████| 1875/1875 [00:19<00:00, 97.22it/s] \n"
     ]
    },
    {
     "name": "stdout",
     "output_type": "stream",
     "text": [
      "Training Completed.....\n"
     ]
    },
    {
     "name": "stderr",
     "output_type": "stream",
     "text": [
      "Testing epoch 1/ 10: 100%|██████████| 313/313 [00:01<00:00, 170.45it/s]\n"
     ]
    },
    {
     "name": "stdout",
     "output_type": "stream",
     "text": [
      "Test Completed with result: {'epoch': 1, 'train_loss': 1.1335436443010967, 'test_loss': 0.524535735146687, 'test_f1': 0.8296178247984181, 'train_f1': 0.6320551784780852}\n"
     ]
    },
    {
     "name": "stderr",
     "output_type": "stream",
     "text": [
      "Training Epoch 2/10...: 100%|██████████| 1875/1875 [00:19<00:00, 96.07it/s]\n"
     ]
    },
    {
     "name": "stdout",
     "output_type": "stream",
     "text": [
      "Training Completed.....\n"
     ]
    },
    {
     "name": "stderr",
     "output_type": "stream",
     "text": [
      "Testing epoch 2/ 10: 100%|██████████| 313/313 [00:02<00:00, 133.66it/s]\n"
     ]
    },
    {
     "name": "stdout",
     "output_type": "stream",
     "text": [
      "Test Completed with result: {'epoch': 2, 'train_loss': 0.5317908682743708, 'test_loss': 0.3741768312435181, 'test_f1': 0.8724893027152564, 'train_f1': 0.8238903962293765}\n"
     ]
    },
    {
     "name": "stderr",
     "output_type": "stream",
     "text": [
      "Training Epoch 3/10...: 100%|██████████| 1875/1875 [00:18<00:00, 101.93it/s]\n"
     ]
    },
    {
     "name": "stdout",
     "output_type": "stream",
     "text": [
      "Training Completed.....\n"
     ]
    },
    {
     "name": "stderr",
     "output_type": "stream",
     "text": [
      "Testing epoch 3/ 10: 100%|██████████| 313/313 [00:01<00:00, 174.38it/s]\n"
     ]
    },
    {
     "name": "stdout",
     "output_type": "stream",
     "text": [
      "Test Completed with result: {'epoch': 3, 'train_loss': 0.4077749250570933, 'test_loss': 0.29460092792257714, 'test_f1': 0.9021291752618823, 'train_f1': 0.8654523822793846}\n"
     ]
    },
    {
     "name": "stderr",
     "output_type": "stream",
     "text": [
      "Training Epoch 4/10...: 100%|██████████| 1875/1875 [00:17<00:00, 104.89it/s]\n"
     ]
    },
    {
     "name": "stdout",
     "output_type": "stream",
     "text": [
      "Training Completed.....\n"
     ]
    },
    {
     "name": "stderr",
     "output_type": "stream",
     "text": [
      "Testing epoch 4/ 10: 100%|██████████| 313/313 [00:01<00:00, 176.21it/s]\n"
     ]
    },
    {
     "name": "stdout",
     "output_type": "stream",
     "text": [
      "Test Completed with result: {'epoch': 4, 'train_loss': 0.33365185080567994, 'test_loss': 0.24572626195443323, 'test_f1': 0.9196929595909196, 'train_f1': 0.8897716595124091}\n"
     ]
    },
    {
     "name": "stderr",
     "output_type": "stream",
     "text": [
      "Training Epoch 5/10...: 100%|██████████| 1875/1875 [00:17<00:00, 108.64it/s]\n"
     ]
    },
    {
     "name": "stdout",
     "output_type": "stream",
     "text": [
      "Training Completed.....\n"
     ]
    },
    {
     "name": "stderr",
     "output_type": "stream",
     "text": [
      "Testing epoch 5/ 10: 100%|██████████| 313/313 [00:01<00:00, 175.23it/s]\n"
     ]
    },
    {
     "name": "stdout",
     "output_type": "stream",
     "text": [
      "Test Completed with result: {'epoch': 5, 'train_loss': 0.2798469909568628, 'test_loss': 0.19859657077172313, 'test_f1': 0.9363017960104906, 'train_f1': 0.9102591636563769}\n"
     ]
    },
    {
     "name": "stderr",
     "output_type": "stream",
     "text": [
      "Training Epoch 6/10...: 100%|██████████| 1875/1875 [00:18<00:00, 101.28it/s]\n"
     ]
    },
    {
     "name": "stdout",
     "output_type": "stream",
     "text": [
      "Training Completed.....\n"
     ]
    },
    {
     "name": "stderr",
     "output_type": "stream",
     "text": [
      "Testing epoch 6/ 10: 100%|██████████| 313/313 [00:01<00:00, 177.60it/s]\n"
     ]
    },
    {
     "name": "stdout",
     "output_type": "stream",
     "text": [
      "Test Completed with result: {'epoch': 6, 'train_loss': 0.23685363364120324, 'test_loss': 0.16823375135802995, 'test_f1': 0.9468369287327565, 'train_f1': 0.9242913633561407}\n"
     ]
    },
    {
     "name": "stderr",
     "output_type": "stream",
     "text": [
      "Training Epoch 7/10...: 100%|██████████| 1875/1875 [00:17<00:00, 108.81it/s]\n"
     ]
    },
    {
     "name": "stdout",
     "output_type": "stream",
     "text": [
      "Training Completed.....\n"
     ]
    },
    {
     "name": "stderr",
     "output_type": "stream",
     "text": [
      "Testing epoch 7/ 10: 100%|██████████| 313/313 [00:01<00:00, 171.06it/s]\n"
     ]
    },
    {
     "name": "stdout",
     "output_type": "stream",
     "text": [
      "Test Completed with result: {'epoch': 7, 'train_loss': 0.20602763190915188, 'test_loss': 0.14267041231282412, 'test_f1': 0.9555864100648512, 'train_f1': 0.934653945416759}\n"
     ]
    },
    {
     "name": "stderr",
     "output_type": "stream",
     "text": [
      "Training Epoch 8/10...: 100%|██████████| 1875/1875 [00:17<00:00, 104.97it/s]\n"
     ]
    },
    {
     "name": "stdout",
     "output_type": "stream",
     "text": [
      "Training Completed.....\n"
     ]
    },
    {
     "name": "stderr",
     "output_type": "stream",
     "text": [
      "Testing epoch 8/ 10: 100%|██████████| 313/313 [00:01<00:00, 175.92it/s]\n"
     ]
    },
    {
     "name": "stdout",
     "output_type": "stream",
     "text": [
      "Test Completed with result: {'epoch': 8, 'train_loss': 0.17992676573793093, 'test_loss': 0.13091330511715657, 'test_f1': 0.9591488203051669, 'train_f1': 0.9440338316527968}\n"
     ]
    },
    {
     "name": "stderr",
     "output_type": "stream",
     "text": [
      "Training Epoch 9/10...: 100%|██████████| 1875/1875 [00:17<00:00, 108.99it/s]\n"
     ]
    },
    {
     "name": "stdout",
     "output_type": "stream",
     "text": [
      "Training Completed.....\n"
     ]
    },
    {
     "name": "stderr",
     "output_type": "stream",
     "text": [
      "Testing epoch 9/ 10: 100%|██████████| 313/313 [00:02<00:00, 140.56it/s]\n"
     ]
    },
    {
     "name": "stdout",
     "output_type": "stream",
     "text": [
      "Test Completed with result: {'epoch': 9, 'train_loss': 0.16214663452208042, 'test_loss': 0.11062614841404529, 'test_f1': 0.966550751865852, 'train_f1': 0.9501453527377592}\n"
     ]
    },
    {
     "name": "stderr",
     "output_type": "stream",
     "text": [
      "Training Epoch 10/10...: 100%|██████████| 1875/1875 [00:17<00:00, 107.89it/s]\n"
     ]
    },
    {
     "name": "stdout",
     "output_type": "stream",
     "text": [
      "Training Completed.....\n"
     ]
    },
    {
     "name": "stderr",
     "output_type": "stream",
     "text": [
      "Testing epoch 10/ 10: 100%|██████████| 313/313 [00:01<00:00, 177.41it/s]\n"
     ]
    },
    {
     "name": "stdout",
     "output_type": "stream",
     "text": [
      "Test Completed with result: {'epoch': 10, 'train_loss': 0.14631737879614035, 'test_loss': 0.10408063267860503, 'test_f1': 0.966990572939137, 'train_f1': 0.9545533094087804}\n"
     ]
    },
    {
     "data": {
      "text/html": [],
      "text/plain": [
       "<IPython.core.display.HTML object>"
      ]
     },
     "metadata": {},
     "output_type": "display_data"
    },
    {
     "data": {
      "text/html": [
       "<br>    <style><br>        .wandb-row {<br>            display: flex;<br>            flex-direction: row;<br>            flex-wrap: wrap;<br>            justify-content: flex-start;<br>            width: 100%;<br>        }<br>        .wandb-col {<br>            display: flex;<br>            flex-direction: column;<br>            flex-basis: 100%;<br>            flex: 1;<br>            padding: 10px;<br>        }<br>    </style><br><div class=\"wandb-row\"><div class=\"wandb-col\"><h3>Run history:</h3><br/><table class=\"wandb\"><tr><td>epoch</td><td>▁▂▃▃▄▅▆▆▇█</td></tr><tr><td>test_f1</td><td>▁▃▅▆▆▇▇███</td></tr><tr><td>test_loss</td><td>█▅▄▃▃▂▂▁▁▁</td></tr><tr><td>train_f1</td><td>▁▅▆▇▇▇████</td></tr><tr><td>train_loss</td><td>█▄▃▂▂▂▁▁▁▁</td></tr></table><br/></div><div class=\"wandb-col\"><h3>Run summary:</h3><br/><table class=\"wandb\"><tr><td>epoch</td><td>10</td></tr><tr><td>test_f1</td><td>0.96699</td></tr><tr><td>test_loss</td><td>0.10408</td></tr><tr><td>train_f1</td><td>0.95455</td></tr><tr><td>train_loss</td><td>0.14632</td></tr></table><br/></div></div>"
      ],
      "text/plain": [
       "<IPython.core.display.HTML object>"
      ]
     },
     "metadata": {},
     "output_type": "display_data"
    },
    {
     "data": {
      "text/html": [
       " View run <strong style=\"color:#cdcd00\">proud-wood-1</strong> at: <a href='https://wandb.ai/salamichino-appclick/MNIST%20DIGIT%20RECOGNITION%20WITH%20CUSTOM%20CNN/runs/j315yok4' target=\"_blank\">https://wandb.ai/salamichino-appclick/MNIST%20DIGIT%20RECOGNITION%20WITH%20CUSTOM%20CNN/runs/j315yok4</a><br> View project at: <a href='https://wandb.ai/salamichino-appclick/MNIST%20DIGIT%20RECOGNITION%20WITH%20CUSTOM%20CNN' target=\"_blank\">https://wandb.ai/salamichino-appclick/MNIST%20DIGIT%20RECOGNITION%20WITH%20CUSTOM%20CNN</a><br>Synced 5 W&B file(s), 0 media file(s), 0 artifact file(s) and 0 other file(s)"
      ],
      "text/plain": [
       "<IPython.core.display.HTML object>"
      ]
     },
     "metadata": {},
     "output_type": "display_data"
    },
    {
     "data": {
      "text/html": [
       "Find logs at: <code>./wandb/run-20250904_130711-j315yok4/logs</code>"
      ],
      "text/plain": [
       "<IPython.core.display.HTML object>"
      ]
     },
     "metadata": {},
     "output_type": "display_data"
    }
   ],
   "source": [
    "# setup the training and validation loop\n",
    "\n",
    "overall_train_loss = []\n",
    "overall_test_loss = []\n",
    "for epoch in range(epochs):\n",
    "  model.train()\n",
    "  epoch_labels = []\n",
    "  epoch_preds = []\n",
    "  epoch_test_labels = []\n",
    "  epoch_test_preds = []\n",
    "  epoch_train_loss = []\n",
    "  epoch_test_loss = []\n",
    "  train_batch = tqdm(train_loader, desc=f\"Training Epoch {epoch + 1}/{epochs}...\")\n",
    "  for image, label in train_batch:\n",
    "    image, label = image.to(device), label.to(device)\n",
    "    train_preds = model(image)\n",
    "    loss = criterion(train_preds, label)\n",
    "\n",
    "    #backprop\n",
    "    optimizer.zero_grad()\n",
    "    loss.backward()\n",
    "    optimizer.step()\n",
    "\n",
    "    epoch_train_loss.append(loss.item())\n",
    "    epoch_labels.extend(label.detach().cpu().numpy())\n",
    "    logit, preds = torch.max(train_preds, 1)\n",
    "    epoch_preds.extend(preds.detach().cpu().numpy())\n",
    "\n",
    "  # compute metrics\n",
    "  train_loss = sum(epoch_train_loss)/len(epoch_train_loss)\n",
    "  train_f1 = f1_score(epoch_labels, epoch_preds, average = \"weighted\")\n",
    "  print(f\"Training Completed.....\")\n",
    "\n",
    "  # evaluation loop\n",
    "  model.eval()\n",
    "  with torch.no_grad():\n",
    "    test_batch = tqdm(test_loader, desc=f\"Testing epoch {epoch + 1}/ {epochs}\")\n",
    "    for image, label in test_batch:\n",
    "      image, label = image.to(device), label.to(device)\n",
    "      test_preds = model(image)\n",
    "      loss_test = criterion(test_preds, label)\n",
    "\n",
    "      # get all the needed result\n",
    "\n",
    "      epoch_test_loss.append(loss_test.item())\n",
    "      epoch_test_labels.extend(label.detach().cpu().numpy())\n",
    "      logit, preds = torch.max(test_preds, 1)\n",
    "      epoch_test_preds.extend(preds.detach().cpu().numpy())\n",
    "\n",
    "  #compute the test metrics\n",
    "  test_loss = sum(epoch_test_loss)/len(epoch_test_loss)\n",
    "  test_f1 = f1_score(epoch_test_labels, epoch_test_preds, average = \"weighted\")\n",
    "\n",
    "  epoch_result = {\n",
    "      'epoch': epoch + 1,\n",
    "      'train_loss': train_loss,\n",
    "      'test_loss': test_loss,\n",
    "      'test_f1': test_f1,\n",
    "      'train_f1': train_f1\n",
    "  }\n",
    "  print(f\"Test Completed with result: {epoch_result}\")\n",
    "  run.log(data = epoch_result)\n",
    "\n",
    "\n",
    "run.finish()"
   ]
  }
 ],
 "metadata": {
  "accelerator": "GPU",
  "colab": {
   "gpuType": "T4",
   "provenance": [
    {
     "file_id": "https://gist.github.com/Muyiiwaa/4daef6169316cacb10999958589d34b6#file-cnn_mnist-ipynb",
     "timestamp": 1756993424399
    }
   ]
  },
  "kernelspec": {
   "display_name": "Python 3 (ipykernel)",
   "language": "python",
   "name": "python3"
  },
  "language_info": {
   "codemirror_mode": {
    "name": "ipython",
    "version": 3
   },
   "file_extension": ".py",
   "mimetype": "text/x-python",
   "name": "python",
   "nbconvert_exporter": "python",
   "pygments_lexer": "ipython3",
   "version": "3.11.7"
  }
 },
 "nbformat": 4,
 "nbformat_minor": 4
}
