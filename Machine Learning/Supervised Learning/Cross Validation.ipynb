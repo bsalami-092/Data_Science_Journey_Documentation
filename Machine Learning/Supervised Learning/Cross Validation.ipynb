{
 "cells": [
  {
   "cell_type": "markdown",
   "id": "2afff5ff-88d5-4c87-a9ca-bb62253033e2",
   "metadata": {},
   "source": [
    "# Regression With KFold"
   ]
  },
  {
   "cell_type": "code",
   "execution_count": null,
   "id": "721eb4bc-74cb-425d-ac06-b5ecbde5d847",
   "metadata": {},
   "outputs": [],
   "source": []
  }
 ],
 "metadata": {
  "kernelspec": {
   "display_name": "Python 3 (ipykernel)",
   "language": "python",
   "name": "python3"
  },
  "language_info": {
   "codemirror_mode": {
    "name": "ipython",
    "version": 3
   },
   "file_extension": ".py",
   "mimetype": "text/x-python",
   "name": "python",
   "nbconvert_exporter": "python",
   "pygments_lexer": "ipython3",
   "version": "3.11.7"
  }
 },
 "nbformat": 4,
 "nbformat_minor": 5
}
