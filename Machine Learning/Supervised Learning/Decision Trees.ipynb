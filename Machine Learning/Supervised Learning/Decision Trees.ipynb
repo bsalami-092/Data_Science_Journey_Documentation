{
 "cells": [
  {
   "cell_type": "code",
   "execution_count": 1,
   "id": "99b26828-d2b4-4935-80ea-7b13490f9eef",
   "metadata": {},
   "outputs": [],
   "source": [
    "import pandas as pd\n",
    "import numpy as np\n",
    "from sklearn.model_selection import train_test_split\n",
    "from sklearn.metrics import classification_report \n",
    "from sklearn.tree import DecisionTreeClassifier\n",
    "from sklearn.datasets import load_breast_cancer"
   ]
  },
  {
   "cell_type": "code",
   "execution_count": 3,
   "id": "6268c582-e7e0-4073-b0f2-d69ec6bd8682",
   "metadata": {},
   "outputs": [],
   "source": [
    "# Load data set\n",
    "X=load_breast_cancer(as_frame=True)['data']\n",
    "y=load_breast_cancer()['target']"
   ]
  },
  {
   "cell_type": "code",
   "execution_count": 4,
   "id": "78111621-c2e8-4861-9d75-b731858ee608",
   "metadata": {},
   "outputs": [],
   "source": [
    "#Split the dataset\n",
    "X_train, X_test, y_train, y_test=train_test_split(X, y, test_size=0.25, stratify=y, random_state=17)"
   ]
  },
  {
   "cell_type": "code",
   "execution_count": 9,
   "id": "2547c6cc-e413-48c1-9344-85d363d9fd02",
   "metadata": {},
   "outputs": [],
   "source": [
    "#Train the model\n",
    "model=DecisionTreeClassifier(random_state=17, max_depth=3,criterion='gini')\n",
    "model.fit(X_train, y_train)\n",
    "train_pred=model.predict(X_train)\n",
    "test_pred=model.predict(X_test)"
   ]
  },
  {
   "cell_type": "code",
   "execution_count": 15,
   "id": "62ef7584-3216-43a5-8ea0-899b6cfe1938",
   "metadata": {},
   "outputs": [
    {
     "name": "stdout",
     "output_type": "stream",
     "text": [
      "Train Report:\n",
      "              precision    recall  f1-score   support\n",
      "\n",
      "           0       0.97      0.97      0.97       159\n",
      "           1       0.98      0.98      0.98       267\n",
      "\n",
      "    accuracy                           0.98       426\n",
      "   macro avg       0.97      0.97      0.97       426\n",
      "weighted avg       0.98      0.98      0.98       426\n",
      "\n",
      "Test Report:\n",
      "              precision    recall  f1-score   support\n",
      "\n",
      "           0       0.95      0.98      0.96        53\n",
      "           1       0.99      0.97      0.98        90\n",
      "\n",
      "    accuracy                           0.97       143\n",
      "   macro avg       0.97      0.97      0.97       143\n",
      "weighted avg       0.97      0.97      0.97       143\n",
      "\n"
     ]
    }
   ],
   "source": [
    "train_report=classification_report(y_train,train_pred)\n",
    "test_report=classification_report(y_test,test_pred)\n",
    "\n",
    "print(f'Train Report:\\n{train_report}')\n",
    "print(f'Test Report:\\n{test_report}')"
   ]
  },
  {
   "cell_type": "code",
   "execution_count": null,
   "id": "1915f5aa-d1c2-499c-b923-589e8680aa6d",
   "metadata": {},
   "outputs": [],
   "source": []
  }
 ],
 "metadata": {
  "kernelspec": {
   "display_name": "Python 3 (ipykernel)",
   "language": "python",
   "name": "python3"
  },
  "language_info": {
   "codemirror_mode": {
    "name": "ipython",
    "version": 3
   },
   "file_extension": ".py",
   "mimetype": "text/x-python",
   "name": "python",
   "nbconvert_exporter": "python",
   "pygments_lexer": "ipython3",
   "version": "3.11.7"
  }
 },
 "nbformat": 4,
 "nbformat_minor": 5
}
